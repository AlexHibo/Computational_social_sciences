{
 "cells": [
  {
   "cell_type": "code",
   "execution_count": 53,
   "id": "a58a1f20-d6d0-4421-b45e-9e4cbe3f81bd",
   "metadata": {},
   "outputs": [
    {
     "name": "stdout",
     "output_type": "stream",
     "text": [
      "Requirement already satisfied: nltk in c:\\users\\alexa\\appdata\\local\\programs\\python\\python312\\lib\\site-packages (3.9.1)\n",
      "Requirement already satisfied: click in c:\\users\\alexa\\appdata\\local\\programs\\python\\python312\\lib\\site-packages (from nltk) (8.1.7)\n",
      "Requirement already satisfied: joblib in c:\\users\\alexa\\appdata\\local\\programs\\python\\python312\\lib\\site-packages (from nltk) (1.4.2)\n",
      "Requirement already satisfied: regex>=2021.8.3 in c:\\users\\alexa\\appdata\\local\\programs\\python\\python312\\lib\\site-packages (from nltk) (2024.11.6)\n",
      "Requirement already satisfied: tqdm in c:\\users\\alexa\\appdata\\local\\programs\\python\\python312\\lib\\site-packages (from nltk) (4.66.5)\n",
      "Requirement already satisfied: colorama in c:\\users\\alexa\\appdata\\roaming\\python\\python312\\site-packages (from click->nltk) (0.4.6)\n",
      "Requirement already satisfied: scikit-network in c:\\users\\alexa\\appdata\\local\\programs\\python\\python312\\lib\\site-packages (0.33.1)\n",
      "Requirement already satisfied: numpy>=1.22.4 in c:\\users\\alexa\\appdata\\local\\programs\\python\\python312\\lib\\site-packages (from scikit-network) (2.0.2)\n",
      "Requirement already satisfied: scipy>=1.7.3 in c:\\users\\alexa\\appdata\\local\\programs\\python\\python312\\lib\\site-packages (from scikit-network) (1.14.1)\n",
      "Requirement already satisfied: numpy in c:\\users\\alexa\\appdata\\local\\programs\\python\\python312\\lib\\site-packages (2.0.2)\n"
     ]
    }
   ],
   "source": [
    "!pip install nltk\n",
    "!pip install scikit-network\n",
    "!pip install numpy"
   ]
  },
  {
   "cell_type": "code",
   "execution_count": 54,
   "id": "2b6b191a-03c5-4544-96a2-d4f5d5c2da01",
   "metadata": {},
   "outputs": [],
   "source": [
    "from nltk import stem\n",
    "import numpy as np\n",
    "from operator import itemgetter"
   ]
  },
  {
   "cell_type": "markdown",
   "id": "92064757-2c14-4151-b00a-496ded551362",
   "metadata": {},
   "source": [
    "## Download and extract the data\n",
    "\n",
    "From [here](https://snap.stanford.edu/data/bigdata/memetracker9/quotes_2008-08.txt.gz). Extract it on your computer (or alternatively upload it to Google Colab)."
   ]
  },
  {
   "cell_type": "markdown",
   "id": "869d5739-5ffd-48d2-97c0-9ed16af2f3c0",
   "metadata": {
    "tags": []
   },
   "source": [
    "## Parsing the Memetracker data\n",
    "\n",
    "Each line of the data is structured as a tuple (MARKER, TEXT), where the first letter of the line encodes:\n",
    "\n",
    "- P: URL of the document\n",
    "- T: time of the post (timestamp)\n",
    "- Q: phrase extracted from the text of the document\n",
    "- L: hyper-links in the document (links pointing to other documents on the web)\n",
    "\n",
    "Note some documents have zero phrases or zero links. "
   ]
  },
  {
   "cell_type": "code",
   "execution_count": 55,
   "id": "8080dce6-d480-476d-85cb-5f06c300569e",
   "metadata": {},
   "outputs": [],
   "source": [
    "L = 4 # minimum sentence length\n",
    "M = 20 # minimum frequency threshold\n",
    "FILEPATH = \"C:/Users/alexa/Downloads/Creneau D/Computer social sciences/TP2_memetracker/quotes_2008-08.txt\"  # PUT YOUR FILE PATH HERE"
   ]
  },
  {
   "cell_type": "code",
   "execution_count": 56,
   "id": "4460343f-10a1-4517-b738-3dd2c6c6a13f",
   "metadata": {},
   "outputs": [],
   "source": [
    "f = open(FILEPATH, \"r\", encoding=\"utf-8\")\n",
    "quotes = {}\n",
    "MAX_LINES = 1000000\n",
    "i= 0\n",
    "\n",
    "for line in f:\n",
    "    if i > MAX_LINES:\n",
    "        break\n",
    "    \n",
    "    contents = line.strip().split(\"\\t\")\n",
    "    \n",
    "    if line == \"\\n\":\n",
    "        domain = None\n",
    "        ts = None\n",
    "    else:\n",
    "        marker = contents[0]\n",
    "        text = contents[1]\n",
    "    \n",
    "        if marker == \"P\":\n",
    "            domain = text\n",
    "        elif marker == \"T\":\n",
    "            ts = text\n",
    "        elif marker == \"Q\":\n",
    "            splitted_text = text.split(\" \")\n",
    "            if len(splitted_text) >= L:\n",
    "                \n",
    "                if text in quotes:\n",
    "                    quotes[text][\"domains\"].append(domain)\n",
    "                    quotes[text][\"timestamps\"].append(ts)\n",
    "                else:\n",
    "                    quotes[text] = {\"domains\": [domain], \"timestamps\": [ts]}\n",
    "                    \n",
    "    i += 1"
   ]
  },
  {
   "cell_type": "markdown",
   "id": "9d18a1a7-9dd9-4759-815b-86993d9b0a8c",
   "metadata": {},
   "source": [
    "Choose a sentence (the fist one, for example) and display its domain names and timestamps in order to get familiar with the data structure."
   ]
  },
  {
   "cell_type": "code",
   "execution_count": 57,
   "id": "a54d6866-67cf-40b9-8f99-d4e8009b37ce",
   "metadata": {},
   "outputs": [
    {
     "name": "stdout",
     "output_type": "stream",
     "text": [
      "First quote : how to create property binding in a visual webgui silverlight control\n",
      "Domain names : ['http://codeproject.com/kb/silverlight/convertsilverlightcontrol.aspx']\n",
      "Timestamps : ['2008-08-01 00:00:00']\n"
     ]
    }
   ],
   "source": [
    "\n",
    "\n",
    "first_quote = list(quotes)[0] \n",
    "domains = quotes[first_quote][\"domains\"]\n",
    "timestamps = quotes[first_quote][\"timestamps\"]\n",
    "\n",
    "print(\"First quote : \" + first_quote)\n",
    "print(\"Domain names : \", end='')\n",
    "print(domains)\n",
    "print(\"Timestamps : \" , end='')\n",
    "print(timestamps)\n"
   ]
  },
  {
   "cell_type": "markdown",
   "id": "daa3b7d6-1cc0-440c-9a35-a2aa1c0553c6",
   "metadata": {},
   "source": [
    "How many sentences does the dataset contain?"
   ]
  },
  {
   "cell_type": "code",
   "execution_count": 58,
   "id": "6bc90eef-2bea-40e6-8642-e4fbd8ce1c41",
   "metadata": {},
   "outputs": [
    {
     "name": "stdout",
     "output_type": "stream",
     "text": [
      "There are : 150572 different sentences\n",
      "There are : 235464 sentences in total\n"
     ]
    }
   ],
   "source": [
    "print(\"There are : \" + str(len(quotes)) + ' different sentences')\n",
    "totsentences=0\n",
    "for text in quotes:\n",
    "    totsentences+=len(quotes[text]['domains'])\n",
    "print(\"There are : \" + str(totsentences) + \" sentences in total\")"
   ]
  },
  {
   "cell_type": "markdown",
   "id": "0df15264-ea14-4e15-bec9-139091e15cec",
   "metadata": {},
   "source": [
    "Let us clean the data to only keep sentences that appear at least $M$ times."
   ]
  },
  {
   "cell_type": "code",
   "execution_count": null,
   "id": "3bfea533-b8b2-4456-8191-c45787ef36c2",
   "metadata": {},
   "outputs": [
    {
     "name": "stdout",
     "output_type": "stream",
     "text": [
      "1266\n"
     ]
    }
   ],
   "source": [
    "\n",
    "M=12\n",
    "curated_data = []\n",
    "for x in quotes:\n",
    "    if len(quotes[x][\"domains\"]) > M:\n",
    "        curated_data.append(x)\n",
    "print(len(curated_data)) #M=20 donc on prend que les phrases qui apparaissent strictement plus de 12 fois"
   ]
  },
  {
   "cell_type": "markdown",
   "id": "fde27acc-d381-4fb3-92bd-d1978551a5d1",
   "metadata": {},
   "source": [
    "## Building the sentence graph\n",
    "\n",
    "Our goal is to build a directed graph, where each node $i$ is a sentence fragment observed in the data; there exists an edge between two nodes $i$ and $j$ if $i$ is included in $j$.\n"
   ]
  },
  {
   "cell_type": "code",
   "execution_count": null,
   "id": "fbf92ab9-6d5f-493c-8d34-c9de240b48d2",
   "metadata": {
    "tags": []
   },
   "outputs": [
    {
     "name": "stdout",
     "output_type": "stream",
     "text": [
      "True\n",
      "False\n"
     ]
    }
   ],
   "source": [
    "def inclusion(i, j, edit_distance=1):\n",
    "    stemmer = stem.PorterStemmer()\n",
    "    L=[]\n",
    "    M=[]\n",
    "    word=''\n",
    "    distance=0\n",
    "\n",
    "    #Construction des phrases sous forme de liste contenant les mots de la phrase sous forme stem (racine des mots)\n",
    "    for ch in i:\n",
    "        if ch==' ':\n",
    "            L.append(stemmer.stem(word))\n",
    "            word=''\n",
    "        else:\n",
    "            word+=ch\n",
    "    if word !='':\n",
    "        L.append(stemmer.stem(word)) #ajout du dernier mot de la phrase si non vide\n",
    "    word=''\n",
    "    for ch in j:\n",
    "        if ch==' ':\n",
    "            M.append(stemmer.stem(word))\n",
    "            word=''\n",
    "        else:\n",
    "            word+=ch\n",
    "    if word !='':\n",
    "        M.append(stemmer.stem(word))\n",
    "    \n",
    "    \n",
    "    #Calcul de la distance de Levenshtein entre les deux phrases\n",
    "    distance_initial=0\n",
    "    for i in range(min(edit_distance,len(L))): #on supprime le début de L pour être sûr qu'il est dans M\n",
    "        if L[0] not in M:\n",
    "            del L[0]\n",
    "            distance_initial+=1\n",
    "    if L==[]:\n",
    "        return True #si L est vide, alors il est inclus dans M\n",
    "    \n",
    "    debuts=[] \n",
    "    for i in range(len(M)):\n",
    "        if L[0]==M[i]:\n",
    "            debuts.append(i)\n",
    "    \n",
    "    if debuts==[]:\n",
    "        return False\n",
    "    #on considère tout les débuts potentielles de similarité dans M (il peut y avoir 2 fois le mot qui commence L dans M)\n",
    "    M1=M.copy()\n",
    "    L1=L.copy()\n",
    "    for debut in debuts:\n",
    "        M=M1.copy()\n",
    "        L=L1.copy()\n",
    "        M=M[debut:min(debut+len(L)+edit_distance , len(M))] #on enlève les mots de M qui ne peuvent pas être dans L pour satisfaire une distance minimal de edit_distance\n",
    "\n",
    "        #on supprime les mots de L qui ne sont pas dans M (en augmentant la distance)\n",
    "        distL=0\n",
    "        for j in range(len(L)):\n",
    "            if L[j-distL] not in M:\n",
    "                del L[j-distL]\n",
    "                distL+=1\n",
    "        distM=0\n",
    "\n",
    "        M=M[0:len(L)+edit_distance-distL] #on enlève les mots en trop de M\n",
    "\n",
    "        #on supprime les mots de M qui ne sont pas dans L (en augmentant la distance)\n",
    "        for j in range(len(M)):\n",
    "            if M[j-distM] not in L:\n",
    "                del M[j-distM]\n",
    "                distM+=1\n",
    "\n",
    "        distance=distL+distM+distance_initial\n",
    "        if M==L and distance<=edit_distance: #on verifie l'égalité pour verifier que l'ordre des mots est le bon et que l'egalité tiens compte de la distance\n",
    "            return True\n",
    "    return False\n",
    "\n",
    "\n",
    "\n",
    "i=\"this is really great\"\n",
    "j=\"this is great news for anyone interested in bats\"\n",
    "print(inclusion(i,j))\n",
    "print(inclusion(i+\" eating\",j))\n",
    "\n",
    "#renvoie les bonnes choses\n",
    "\n",
    "\n",
    "#Le problème encore actuel de l'algo est si L[0] n'est pas dans M, ce qui est possible  (Corrigé)\n",
    "# i=\"she is great\"\n",
    "# j=\"this is great news for anyone interested in bats\"\n",
    "# print(inclusion(i,j)) #cela devrait retourner True (i est inclue dans j à u) mais retourne False (Corrigé)\n",
    "\n",
    "\n",
    "# Write a function that returns true if i is included in j, false otherwise\n",
    "# variation : The function returns true if i is included in j to 1 word difference (ie. \"this is really great\" is then included in \"this is great news for anyone interested in bats\"\n",
    "# if you wish to, you can gain in generality by using a stemmer: for a given word, stemmer.stem(word) will output its root, ie. stemmer.stem(\"eating\") returns \"eat\".\n",
    "    "
   ]
  },
  {
   "cell_type": "markdown",
   "id": "8409226f-8aee-4143-b1ba-0fd05eb3f5c4",
   "metadata": {},
   "source": [
    "Build a list `list_edges` of tuples $(i,j,w)$, each tuple meaning that sentences i et j are connected (use the inclusion function you write), and that they appear $w$ times. The next notebook cells will use this list to build the sentence graph. You can store the nodes (the sentence fragments) in the dictionary `nodes`."
   ]
  },
  {
   "cell_type": "code",
   "execution_count": null,
   "id": "fabf113e-049c-4165-b4e2-819558b31703",
   "metadata": {},
   "outputs": [
    {
     "data": {
      "text/plain": [
       "70"
      ]
     },
     "execution_count": 91,
     "metadata": {},
     "output_type": "execute_result"
    }
   ],
   "source": [
    "#Très long selon la valeur de M ie le nombre de phrases à comparer ; ici pour M=12, cela prend environ 6 minutes\n",
    "cpt_nodes = 0\n",
    "nodes = {}\n",
    "edges = {}\n",
    "labels = [ \"a\" for i in range(len(curated_data))]\n",
    "\n",
    "for ind_i, i in enumerate(curated_data):\n",
    "    for ind_j, j in enumerate(curated_data):\n",
    "        if i == j:\n",
    "            continue\n",
    "        \n",
    "        if len(i) < len(j):\n",
    "            if inclusion(i, j):\n",
    "                i1=i.split(\" \")\n",
    "                j1=j.split(\" \")\n",
    "                if not tuple(i1) in nodes:\n",
    "                    nodes[tuple(i1)] = cpt_nodes\n",
    "                    cpt_nodes += 1\n",
    "                if not tuple(j1) in nodes:\n",
    "                    nodes[tuple(j1)] = cpt_nodes\n",
    "                    cpt_nodes += 1\n",
    "\n",
    "                \n",
    "                e = (nodes[tuple(i1)], nodes[tuple(j1)])\n",
    "                if e in edges:\n",
    "                    edges[e] += 1\n",
    "                else:\n",
    "                    edges[e] = 1\n",
    "list_edges = [ (i[0], i[1], edges[i]) for i in edges ]\n",
    "len(list_edges)"
   ]
  },
  {
   "cell_type": "code",
   "execution_count": 92,
   "id": "ea6c7362-abfe-4c62-91f0-1f877695543f",
   "metadata": {},
   "outputs": [],
   "source": [
    "import sknetwork as skn\n",
    "from IPython.display import SVG"
   ]
  },
  {
   "cell_type": "code",
   "execution_count": 93,
   "id": "7594436f-d089-4391-abd2-5a4adb211c4d",
   "metadata": {},
   "outputs": [
    {
     "data": {
      "text/plain": [
       "90"
      ]
     },
     "execution_count": 93,
     "metadata": {},
     "output_type": "execute_result"
    }
   ],
   "source": [
    "g = skn.data.from_edge_list(list_edges, directed=True, weighted=True)\n",
    "n = g.shape[0]\n",
    "names = [ \" \".join(x) for x in nodes.keys() ]\n",
    "n"
   ]
  },
  {
   "cell_type": "markdown",
   "id": "fb90b0ac-2ce5-43c3-a1f0-94c22abb2a79",
   "metadata": {},
   "source": [
    "If your graph is not too large, you can even visualize it! :)"
   ]
  },
  {
   "cell_type": "code",
   "execution_count": 94,
   "id": "77bbc0cb-06e0-4cc3-ab3e-178171bc33c5",
   "metadata": {},
   "outputs": [
    {
     "data": {
      "image/svg+xml": [
       "<svg xmlns=\"http://www.w3.org/2000/svg\" width=\"11462.472720686423\" height=\"340\">\n",
       "<defs><marker id=\"arrow-gray\" markerWidth=\"10\" markerHeight=\"10\" refX=\"9\" refY=\"3\" orient=\"auto\">\n",
       "<path d=\"M0,0 L0,6 L9,3 z\" fill=\"gray\"/></marker></defs>\n",
       "<path stroke-width=\"1\" stroke=\"gray\" d=\"M 241 143 245 144\" marker-end=\"url(#arrow-gray)\"/>\n",
       "<path stroke-width=\"1\" stroke=\"gray\" d=\"M 225 263 217 261\" marker-end=\"url(#arrow-gray)\"/>\n",
       "<path stroke-width=\"1\" stroke=\"gray\" d=\"M 225 263 225 263\" marker-end=\"url(#arrow-gray)\"/>\n",
       "<path stroke-width=\"1\" stroke=\"gray\" d=\"M 225 263 223 264\" marker-end=\"url(#arrow-gray)\"/>\n",
       "<path stroke-width=\"1\" stroke=\"gray\" d=\"M 220 267 216 264\" marker-end=\"url(#arrow-gray)\"/>\n",
       "<path stroke-width=\"1\" stroke=\"gray\" d=\"M 217 265 217 264\" marker-end=\"url(#arrow-gray)\"/>\n",
       "<path stroke-width=\"1\" stroke=\"gray\" d=\"M 217 265 215 264\" marker-end=\"url(#arrow-gray)\"/>\n",
       "<path stroke-width=\"1\" stroke=\"gray\" d=\"M 201 255 206 257\" marker-end=\"url(#arrow-gray)\"/>\n",
       "<path stroke-width=\"1\" stroke=\"gray\" d=\"M 201 255 201 254\" marker-end=\"url(#arrow-gray)\"/>\n",
       "<path stroke-width=\"1\" stroke=\"gray\" d=\"M 197 259 205 260\" marker-end=\"url(#arrow-gray)\"/>\n",
       "<path stroke-width=\"1\" stroke=\"gray\" d=\"M 164 300 167 300\" marker-end=\"url(#arrow-gray)\"/>\n",
       "<path stroke-width=\"1\" stroke=\"gray\" d=\"M 221 260 220 259\" marker-end=\"url(#arrow-gray)\"/>\n",
       "<path stroke-width=\"1\" stroke=\"gray\" d=\"M 221 260 217 260\" marker-end=\"url(#arrow-gray)\"/>\n",
       "<path stroke-width=\"1\" stroke=\"gray\" d=\"M 221 260 220 261\" marker-end=\"url(#arrow-gray)\"/>\n",
       "<path stroke-width=\"1\" stroke=\"gray\" d=\"M 221 260 221 260\" marker-end=\"url(#arrow-gray)\"/>\n",
       "<path stroke-width=\"1\" stroke=\"gray\" d=\"M 354 241 357 241\" marker-end=\"url(#arrow-gray)\"/>\n",
       "<path stroke-width=\"1\" stroke=\"gray\" d=\"M 354 241 351 242\" marker-end=\"url(#arrow-gray)\"/>\n",
       "<path stroke-width=\"1\" stroke=\"gray\" d=\"M 354 241 354 240\" marker-end=\"url(#arrow-gray)\"/>\n",
       "<path stroke-width=\"1\" stroke=\"gray\" d=\"M 354 246 357 244\" marker-end=\"url(#arrow-gray)\"/>\n",
       "<path stroke-width=\"1\" stroke=\"gray\" d=\"M 354 246 351 245\" marker-end=\"url(#arrow-gray)\"/>\n",
       "<path stroke-width=\"1\" stroke=\"gray\" d=\"M 416 221 417 222\" marker-end=\"url(#arrow-gray)\"/>\n",
       "<path stroke-width=\"1\" stroke=\"gray\" d=\"M 285 239 283 239\" marker-end=\"url(#arrow-gray)\"/>\n",
       "<path stroke-width=\"1\" stroke=\"gray\" d=\"M 210 76 210 76\" marker-end=\"url(#arrow-gray)\"/>\n",
       "<path stroke-width=\"1\" stroke=\"gray\" d=\"M 210 76 210 76\" marker-end=\"url(#arrow-gray)\"/>\n",
       "<path stroke-width=\"1\" stroke=\"gray\" d=\"M 214 71 211 72\" marker-end=\"url(#arrow-gray)\"/>\n",
       "<path stroke-width=\"1\" stroke=\"gray\" d=\"M 211 269 211 267\" marker-end=\"url(#arrow-gray)\"/>\n",
       "<path stroke-width=\"1\" stroke=\"gray\" d=\"M 211 269 214 268\" marker-end=\"url(#arrow-gray)\"/>\n",
       "<path stroke-width=\"1\" stroke=\"gray\" d=\"M 211 269 212 269\" marker-end=\"url(#arrow-gray)\"/>\n",
       "<path stroke-width=\"1\" stroke=\"gray\" d=\"M 131 97 131 97\" marker-end=\"url(#arrow-gray)\"/>\n",
       "<path stroke-width=\"1\" stroke=\"gray\" d=\"M 131 97 133 99\" marker-end=\"url(#arrow-gray)\"/>\n",
       "<path stroke-width=\"1\" stroke=\"gray\" d=\"M 139 101 136 101\" marker-end=\"url(#arrow-gray)\"/>\n",
       "<path stroke-width=\"1\" stroke=\"gray\" d=\"M 90 76 94 75\" marker-end=\"url(#arrow-gray)\"/>\n",
       "<path stroke-width=\"1\" stroke=\"gray\" d=\"M 110 72 106 73\" marker-end=\"url(#arrow-gray)\"/>\n",
       "<path stroke-width=\"1\" stroke=\"gray\" d=\"M 142 135 138 136\" marker-end=\"url(#arrow-gray)\"/>\n",
       "<path stroke-width=\"1\" stroke=\"gray\" d=\"M 142 135 146 134\" marker-end=\"url(#arrow-gray)\"/>\n",
       "<path stroke-width=\"1\" stroke=\"gray\" d=\"M 20 158 21 159\" marker-end=\"url(#arrow-gray)\"/>\n",
       "<path stroke-width=\"1\" stroke=\"gray\" d=\"M 40 123 42 122\" marker-end=\"url(#arrow-gray)\"/>\n",
       "<path stroke-width=\"1\" stroke=\"gray\" d=\"M 292 84 294 86\" marker-end=\"url(#arrow-gray)\"/>\n",
       "<path stroke-width=\"1\" stroke=\"gray\" d=\"M 195 218 192 217\" marker-end=\"url(#arrow-gray)\"/>\n",
       "<path stroke-width=\"1\" stroke=\"gray\" d=\"M 289 163 286 165\" marker-end=\"url(#arrow-gray)\"/>\n",
       "<path stroke-width=\"1\" stroke=\"gray\" d=\"M 363 171 361 171\" marker-end=\"url(#arrow-gray)\"/>\n",
       "<path stroke-width=\"1\" stroke=\"gray\" d=\"M 251 114 244 112\" marker-end=\"url(#arrow-gray)\"/>\n",
       "<path stroke-width=\"1\" stroke=\"gray\" d=\"M 251 114 250 112\" marker-end=\"url(#arrow-gray)\"/>\n",
       "<path stroke-width=\"1\" stroke=\"gray\" d=\"M 251 114 256 116\" marker-end=\"url(#arrow-gray)\"/>\n",
       "<path stroke-width=\"1\" stroke=\"gray\" d=\"M 251 114 248 116\" marker-end=\"url(#arrow-gray)\"/>\n",
       "<path stroke-width=\"1\" stroke=\"gray\" d=\"M 251 114 258 112\" marker-end=\"url(#arrow-gray)\"/>\n",
       "<path stroke-width=\"1\" stroke=\"gray\" d=\"M 62 183 62 182\" marker-end=\"url(#arrow-gray)\"/>\n",
       "<path stroke-width=\"1\" stroke=\"gray\" d=\"M 173 34 175 35\" marker-end=\"url(#arrow-gray)\"/>\n",
       "<path stroke-width=\"1\" stroke=\"gray\" d=\"M 32 231 31 231\" marker-end=\"url(#arrow-gray)\"/>\n",
       "<path stroke-width=\"1\" stroke=\"gray\" d=\"M 108 167 108 167\" marker-end=\"url(#arrow-gray)\"/>\n",
       "<path stroke-width=\"1\" stroke=\"gray\" d=\"M 119 220 119 220\" marker-end=\"url(#arrow-gray)\"/>\n",
       "<path stroke-width=\"1\" stroke=\"gray\" d=\"M 111 218 113 219\" marker-end=\"url(#arrow-gray)\"/>\n",
       "<path stroke-width=\"1\" stroke=\"gray\" d=\"M 111 218 112 217\" marker-end=\"url(#arrow-gray)\"/>\n",
       "<path stroke-width=\"1\" stroke=\"gray\" d=\"M 219 320 222 319\" marker-end=\"url(#arrow-gray)\"/>\n",
       "<path stroke-width=\"1\" stroke=\"gray\" d=\"M 379 200 381 200\" marker-end=\"url(#arrow-gray)\"/>\n",
       "<path stroke-width=\"1\" stroke=\"gray\" d=\"M 272 212 275 212\" marker-end=\"url(#arrow-gray)\"/>\n",
       "<path stroke-width=\"1\" stroke=\"gray\" d=\"M 274 43 271 42\" marker-end=\"url(#arrow-gray)\"/>\n",
       "<path stroke-width=\"1\" stroke=\"gray\" d=\"M 386 108 393 107\" marker-end=\"url(#arrow-gray)\"/>\n",
       "<path stroke-width=\"1\" stroke=\"gray\" d=\"M 386 108 386 106\" marker-end=\"url(#arrow-gray)\"/>\n",
       "<path stroke-width=\"1\" stroke=\"gray\" d=\"M 386 108 380 107\" marker-end=\"url(#arrow-gray)\"/>\n",
       "<path stroke-width=\"1\" stroke=\"gray\" d=\"M 386 108 389 111\" marker-end=\"url(#arrow-gray)\"/>\n",
       "<path stroke-width=\"1\" stroke=\"gray\" d=\"M 386 108 383 111\" marker-end=\"url(#arrow-gray)\"/>\n",
       "<path stroke-width=\"1\" stroke=\"gray\" d=\"M 101 258 100 258\" marker-end=\"url(#arrow-gray)\"/>\n",
       "<path stroke-width=\"1\" stroke=\"gray\" d=\"M 297 187 294 188\" marker-end=\"url(#arrow-gray)\"/>\n",
       "<path stroke-width=\"1\" stroke=\"gray\" d=\"M 216 161 212 161\" marker-end=\"url(#arrow-gray)\"/>\n",
       "<path stroke-width=\"1\" stroke=\"gray\" d=\"M 216 161 221 162\" marker-end=\"url(#arrow-gray)\"/>\n",
       "<path stroke-width=\"1\" stroke=\"gray\" d=\"M 308 289 306 291\" marker-end=\"url(#arrow-gray)\"/>\n",
       "<path stroke-width=\"1\" stroke=\"gray\" d=\"M 205 191 207 191\" marker-end=\"url(#arrow-gray)\"/>\n",
       "<path stroke-width=\"1\" stroke=\"gray\" d=\"M 113 45 113 45\" marker-end=\"url(#arrow-gray)\"/>\n",
       "<path stroke-width=\"1\" stroke=\"gray\" d=\"M 291 21 288 21\" marker-end=\"url(#arrow-gray)\"/>\n",
       "<circle cx=\"241\" cy=\"143\" r=\"7.0\" style=\"fill:gray;stroke:black;stroke-width:1.0\"/>\n",
       "<circle cx=\"251\" cy=\"144\" r=\"7.0\" style=\"fill:gray;stroke:black;stroke-width:1.0\"/>\n",
       "<circle cx=\"225\" cy=\"263\" r=\"7.0\" style=\"fill:gray;stroke:black;stroke-width:1.0\"/>\n",
       "<circle cx=\"211\" cy=\"261\" r=\"7.0\" style=\"fill:gray;stroke:black;stroke-width:1.0\"/>\n",
       "<circle cx=\"220\" cy=\"267\" r=\"7.0\" style=\"fill:gray;stroke:black;stroke-width:1.0\"/>\n",
       "<circle cx=\"217\" cy=\"265\" r=\"7.0\" style=\"fill:gray;stroke:black;stroke-width:1.0\"/>\n",
       "<circle cx=\"201\" cy=\"255\" r=\"7.0\" style=\"fill:gray;stroke:black;stroke-width:1.0\"/>\n",
       "<circle cx=\"197\" cy=\"259\" r=\"7.0\" style=\"fill:gray;stroke:black;stroke-width:1.0\"/>\n",
       "<circle cx=\"164\" cy=\"300\" r=\"7.0\" style=\"fill:gray;stroke:black;stroke-width:1.0\"/>\n",
       "<circle cx=\"173\" cy=\"300\" r=\"7.0\" style=\"fill:gray;stroke:black;stroke-width:1.0\"/>\n",
       "<circle cx=\"221\" cy=\"260\" r=\"7.0\" style=\"fill:gray;stroke:black;stroke-width:1.0\"/>\n",
       "<circle cx=\"354\" cy=\"241\" r=\"7.0\" style=\"fill:gray;stroke:black;stroke-width:1.0\"/>\n",
       "<circle cx=\"363\" cy=\"243\" r=\"7.0\" style=\"fill:gray;stroke:black;stroke-width:1.0\"/>\n",
       "<circle cx=\"345\" cy=\"243\" r=\"7.0\" style=\"fill:gray;stroke:black;stroke-width:1.0\"/>\n",
       "<circle cx=\"354\" cy=\"246\" r=\"7.0\" style=\"fill:gray;stroke:black;stroke-width:1.0\"/>\n",
       "<circle cx=\"416\" cy=\"221\" r=\"7.0\" style=\"fill:gray;stroke:black;stroke-width:1.0\"/>\n",
       "<circle cx=\"420\" cy=\"227\" r=\"7.0\" style=\"fill:gray;stroke:black;stroke-width:1.0\"/>\n",
       "<circle cx=\"285\" cy=\"239\" r=\"7.0\" style=\"fill:gray;stroke:black;stroke-width:1.0\"/>\n",
       "<circle cx=\"277\" cy=\"241\" r=\"7.0\" style=\"fill:gray;stroke:black;stroke-width:1.0\"/>\n",
       "<circle cx=\"210\" cy=\"76\" r=\"7.0\" style=\"fill:gray;stroke:black;stroke-width:1.0\"/>\n",
       "<circle cx=\"205\" cy=\"72\" r=\"7.0\" style=\"fill:gray;stroke:black;stroke-width:1.0\"/>\n",
       "<circle cx=\"214\" cy=\"71\" r=\"7.0\" style=\"fill:gray;stroke:black;stroke-width:1.0\"/>\n",
       "<circle cx=\"211\" cy=\"269\" r=\"7.0\" style=\"fill:gray;stroke:black;stroke-width:1.0\"/>\n",
       "<circle cx=\"131\" cy=\"97\" r=\"7.0\" style=\"fill:gray;stroke:black;stroke-width:1.0\"/>\n",
       "<circle cx=\"130\" cy=\"103\" r=\"7.0\" style=\"fill:gray;stroke:black;stroke-width:1.0\"/>\n",
       "<circle cx=\"139\" cy=\"101\" r=\"7.0\" style=\"fill:gray;stroke:black;stroke-width:1.0\"/>\n",
       "<circle cx=\"90\" cy=\"76\" r=\"7.0\" style=\"fill:gray;stroke:black;stroke-width:1.0\"/>\n",
       "<circle cx=\"100\" cy=\"74\" r=\"7.0\" style=\"fill:gray;stroke:black;stroke-width:1.0\"/>\n",
       "<circle cx=\"110\" cy=\"72\" r=\"7.0\" style=\"fill:gray;stroke:black;stroke-width:1.0\"/>\n",
       "<circle cx=\"142\" cy=\"135\" r=\"7.0\" style=\"fill:gray;stroke:black;stroke-width:1.0\"/>\n",
       "<circle cx=\"132\" cy=\"137\" r=\"7.0\" style=\"fill:gray;stroke:black;stroke-width:1.0\"/>\n",
       "<circle cx=\"152\" cy=\"133\" r=\"7.0\" style=\"fill:gray;stroke:black;stroke-width:1.0\"/>\n",
       "<circle cx=\"20\" cy=\"158\" r=\"7.0\" style=\"fill:gray;stroke:black;stroke-width:1.0\"/>\n",
       "<circle cx=\"27\" cy=\"161\" r=\"7.0\" style=\"fill:gray;stroke:black;stroke-width:1.0\"/>\n",
       "<circle cx=\"40\" cy=\"123\" r=\"7.0\" style=\"fill:gray;stroke:black;stroke-width:1.0\"/>\n",
       "<circle cx=\"48\" cy=\"121\" r=\"7.0\" style=\"fill:gray;stroke:black;stroke-width:1.0\"/>\n",
       "<circle cx=\"292\" cy=\"84\" r=\"7.0\" style=\"fill:gray;stroke:black;stroke-width:1.0\"/>\n",
       "<circle cx=\"300\" cy=\"88\" r=\"7.0\" style=\"fill:gray;stroke:black;stroke-width:1.0\"/>\n",
       "<circle cx=\"195\" cy=\"218\" r=\"7.0\" style=\"fill:gray;stroke:black;stroke-width:1.0\"/>\n",
       "<circle cx=\"186\" cy=\"216\" r=\"7.0\" style=\"fill:gray;stroke:black;stroke-width:1.0\"/>\n",
       "<circle cx=\"289\" cy=\"163\" r=\"7.0\" style=\"fill:gray;stroke:black;stroke-width:1.0\"/>\n",
       "<circle cx=\"280\" cy=\"166\" r=\"7.0\" style=\"fill:gray;stroke:black;stroke-width:1.0\"/>\n",
       "<circle cx=\"363\" cy=\"171\" r=\"7.0\" style=\"fill:gray;stroke:black;stroke-width:1.0\"/>\n",
       "<circle cx=\"355\" cy=\"173\" r=\"7.0\" style=\"fill:gray;stroke:black;stroke-width:1.0\"/>\n",
       "<circle cx=\"251\" cy=\"114\" r=\"7.0\" style=\"fill:gray;stroke:black;stroke-width:1.0\"/>\n",
       "<circle cx=\"238\" cy=\"112\" r=\"7.0\" style=\"fill:gray;stroke:black;stroke-width:1.0\"/>\n",
       "<circle cx=\"248\" cy=\"106\" r=\"7.0\" style=\"fill:gray;stroke:black;stroke-width:1.0\"/>\n",
       "<circle cx=\"262\" cy=\"119\" r=\"7.0\" style=\"fill:gray;stroke:black;stroke-width:1.0\"/>\n",
       "<circle cx=\"243\" cy=\"120\" r=\"7.0\" style=\"fill:gray;stroke:black;stroke-width:1.0\"/>\n",
       "<circle cx=\"264\" cy=\"111\" r=\"7.0\" style=\"fill:gray;stroke:black;stroke-width:1.0\"/>\n",
       "<circle cx=\"62\" cy=\"183\" r=\"7.0\" style=\"fill:gray;stroke:black;stroke-width:1.0\"/>\n",
       "<circle cx=\"59\" cy=\"188\" r=\"7.0\" style=\"fill:gray;stroke:black;stroke-width:1.0\"/>\n",
       "<circle cx=\"173\" cy=\"34\" r=\"7.0\" style=\"fill:gray;stroke:black;stroke-width:1.0\"/>\n",
       "<circle cx=\"181\" cy=\"37\" r=\"7.0\" style=\"fill:gray;stroke:black;stroke-width:1.0\"/>\n",
       "<circle cx=\"32\" cy=\"231\" r=\"7.0\" style=\"fill:gray;stroke:black;stroke-width:1.0\"/>\n",
       "<circle cx=\"28\" cy=\"236\" r=\"7.0\" style=\"fill:gray;stroke:black;stroke-width:1.0\"/>\n",
       "<circle cx=\"108\" cy=\"167\" r=\"7.0\" style=\"fill:gray;stroke:black;stroke-width:1.0\"/>\n",
       "<circle cx=\"105\" cy=\"173\" r=\"7.0\" style=\"fill:gray;stroke:black;stroke-width:1.0\"/>\n",
       "<circle cx=\"119\" cy=\"220\" r=\"7.0\" style=\"fill:gray;stroke:black;stroke-width:1.0\"/>\n",
       "<circle cx=\"117\" cy=\"214\" r=\"7.0\" style=\"fill:gray;stroke:black;stroke-width:1.0\"/>\n",
       "<circle cx=\"111\" cy=\"218\" r=\"7.0\" style=\"fill:gray;stroke:black;stroke-width:1.0\"/>\n",
       "<circle cx=\"219\" cy=\"320\" r=\"7.0\" style=\"fill:gray;stroke:black;stroke-width:1.0\"/>\n",
       "<circle cx=\"228\" cy=\"319\" r=\"7.0\" style=\"fill:gray;stroke:black;stroke-width:1.0\"/>\n",
       "<circle cx=\"379\" cy=\"200\" r=\"7.0\" style=\"fill:gray;stroke:black;stroke-width:1.0\"/>\n",
       "<circle cx=\"387\" cy=\"198\" r=\"7.0\" style=\"fill:gray;stroke:black;stroke-width:1.0\"/>\n",
       "<circle cx=\"272\" cy=\"212\" r=\"7.0\" style=\"fill:gray;stroke:black;stroke-width:1.0\"/>\n",
       "<circle cx=\"281\" cy=\"212\" r=\"7.0\" style=\"fill:gray;stroke:black;stroke-width:1.0\"/>\n",
       "<circle cx=\"274\" cy=\"43\" r=\"7.0\" style=\"fill:gray;stroke:black;stroke-width:1.0\"/>\n",
       "<circle cx=\"265\" cy=\"41\" r=\"7.0\" style=\"fill:gray;stroke:black;stroke-width:1.0\"/>\n",
       "<circle cx=\"386\" cy=\"108\" r=\"7.0\" style=\"fill:gray;stroke:black;stroke-width:1.0\"/>\n",
       "<circle cx=\"399\" cy=\"107\" r=\"7.0\" style=\"fill:gray;stroke:black;stroke-width:1.0\"/>\n",
       "<circle cx=\"386\" cy=\"100\" r=\"7.0\" style=\"fill:gray;stroke:black;stroke-width:1.0\"/>\n",
       "<circle cx=\"374\" cy=\"105\" r=\"7.0\" style=\"fill:gray;stroke:black;stroke-width:1.0\"/>\n",
       "<circle cx=\"393\" cy=\"116\" r=\"7.0\" style=\"fill:gray;stroke:black;stroke-width:1.0\"/>\n",
       "<circle cx=\"378\" cy=\"115\" r=\"7.0\" style=\"fill:gray;stroke:black;stroke-width:1.0\"/>\n",
       "<circle cx=\"101\" cy=\"258\" r=\"7.0\" style=\"fill:gray;stroke:black;stroke-width:1.0\"/>\n",
       "<circle cx=\"95\" cy=\"262\" r=\"7.0\" style=\"fill:gray;stroke:black;stroke-width:1.0\"/>\n",
       "<circle cx=\"297\" cy=\"187\" r=\"7.0\" style=\"fill:gray;stroke:black;stroke-width:1.0\"/>\n",
       "<circle cx=\"288\" cy=\"188\" r=\"7.0\" style=\"fill:gray;stroke:black;stroke-width:1.0\"/>\n",
       "<circle cx=\"216\" cy=\"161\" r=\"7.0\" style=\"fill:gray;stroke:black;stroke-width:1.0\"/>\n",
       "<circle cx=\"206\" cy=\"161\" r=\"7.0\" style=\"fill:gray;stroke:black;stroke-width:1.0\"/>\n",
       "<circle cx=\"227\" cy=\"162\" r=\"7.0\" style=\"fill:gray;stroke:black;stroke-width:1.0\"/>\n",
       "<circle cx=\"308\" cy=\"289\" r=\"7.0\" style=\"fill:gray;stroke:black;stroke-width:1.0\"/>\n",
       "<circle cx=\"300\" cy=\"293\" r=\"7.0\" style=\"fill:gray;stroke:black;stroke-width:1.0\"/>\n",
       "<circle cx=\"205\" cy=\"191\" r=\"7.0\" style=\"fill:gray;stroke:black;stroke-width:1.0\"/>\n",
       "<circle cx=\"213\" cy=\"193\" r=\"7.0\" style=\"fill:gray;stroke:black;stroke-width:1.0\"/>\n",
       "<circle cx=\"113\" cy=\"45\" r=\"7.0\" style=\"fill:gray;stroke:black;stroke-width:1.0\"/>\n",
       "<circle cx=\"114\" cy=\"51\" r=\"7.0\" style=\"fill:gray;stroke:black;stroke-width:1.0\"/>\n",
       "<circle cx=\"291\" cy=\"21\" r=\"7.0\" style=\"fill:gray;stroke:black;stroke-width:1.0\"/>\n",
       "<circle cx=\"282\" cy=\"20\" r=\"7.0\" style=\"fill:gray;stroke:black;stroke-width:1.0\"/>\n",
       "<text text-anchor=\"start\" x=\"251\" y=\"143\" font-size=\"12\">tales of beedle the bard</text><text text-anchor=\"start\" x=\"261\" y=\"144\" font-size=\"12\">the tales of beedle the bard</text><text text-anchor=\"start\" x=\"235\" y=\"263\" font-size=\"12\">playing the race card</text><text text-anchor=\"start\" x=\"221\" y=\"261\" font-size=\"12\">barack obama has played the race card and he played it from the bottom of the deck it's divisive negative shameful and wrong</text><text text-anchor=\"start\" x=\"230\" y=\"267\" font-size=\"12\">barack obama has played the race card and he played it from the bottom of the deck</text><text text-anchor=\"start\" x=\"227\" y=\"265\" font-size=\"12\">played the race card and he played it from the bottom of the deck</text><text text-anchor=\"start\" x=\"211\" y=\"255\" font-size=\"12\">divisive negative shameful and wrong</text><text text-anchor=\"start\" x=\"207\" y=\"259\" font-size=\"12\">it's divisive negative shameful and wrong</text><text text-anchor=\"start\" x=\"174\" y=\"300\" font-size=\"12\">at present she is surrounded by family friends and fabulous jewels</text><text text-anchor=\"start\" x=\"183\" y=\"300\" font-size=\"12\">her hospital visit was precautionary she will be returning home shortly at present she is surrounded by family friends and fabulous jewels</text><text text-anchor=\"start\" x=\"231\" y=\"260\" font-size=\"12\">played the race card</text><text text-anchor=\"start\" x=\"364\" y=\"241\" font-size=\"12\">a major development in great britain</text><text text-anchor=\"start\" x=\"373\" y=\"243\" font-size=\"12\">after in depth discussions edf considers that the conditions for a major development in great britain are not met to date</text><text text-anchor=\"start\" x=\"355\" y=\"243\" font-size=\"12\">after in-depth discussions edf considers that the conditions for a major development in great britain are not met to date</text><text text-anchor=\"start\" x=\"364\" y=\"246\" font-size=\"12\">conditions for a major development in great britain</text><text text-anchor=\"start\" x=\"426\" y=\"221\" font-size=\"12\">she wasn't the kind that played with dolls</text><text text-anchor=\"start\" x=\"430\" y=\"227\" font-size=\"12\">you know she wasn't the kind that played with dolls and then all of the sudden she has all of these children</text><text text-anchor=\"start\" x=\"295\" y=\"239\" font-size=\"12\">barack obama in no way believes that the mccain campaign is using race as an issue but he does believe they're using the same old low-road politics to distract voters from the real issues in this campaign</text><text text-anchor=\"start\" x=\"287\" y=\"241\" font-size=\"12\">barack obama in no way believes that the mccain campaign is using race as an issue but he does believe they're using the same old low-road politics to distract voters from the real issues in this campaign and those are the issues he'll continue to talk about</text><text text-anchor=\"start\" x=\"220\" y=\"76\" font-size=\"12\">doesn't look like all those other presidents on the dollar bills</text><text text-anchor=\"start\" x=\"215\" y=\"72\" font-size=\"12\">you know he's not patriotic enough he's got a funny name you know he doesn't look like all those other presidents on the dollar bills</text><text text-anchor=\"start\" x=\"224\" y=\"71\" font-size=\"12\">he doesn't look like all those other presidents on the dollar bills</text><text text-anchor=\"start\" x=\"221\" y=\"269\" font-size=\"12\">from the bottom of the deck</text><text text-anchor=\"start\" x=\"141\" y=\"97\" font-size=\"12\">biggest celebrity in the world</text><text text-anchor=\"start\" x=\"140\" y=\"103\" font-size=\"12\">he's the biggest celebrity in the world but is he ready to lead</text><text text-anchor=\"start\" x=\"149\" y=\"101\" font-size=\"12\">the biggest celebrity in the world</text><text text-anchor=\"start\" x=\"100\" y=\"76\" font-size=\"12\">the red sox don't deserve a player like me</text><text text-anchor=\"start\" x=\"110\" y=\"74\" font-size=\"12\">the red sox don't deserve a player like me during my years here i've seen how they have mistreated other great players when they didn't want them to try to turn the fans against them</text><text text-anchor=\"start\" x=\"120\" y=\"72\" font-size=\"12\">during my years here i've seen how they have mistreated other great players when they didn't want them to try to turn the fans against them</text><text text-anchor=\"start\" x=\"152\" y=\"135\" font-size=\"12\">what they're going to try to do is make you scared of me</text><text text-anchor=\"start\" x=\"142\" y=\"137\" font-size=\"12\">nobody thinks that bush and mccain have a real answer to the challenges we face so what they're going to try to do is make you scared of me</text><text text-anchor=\"start\" x=\"162\" y=\"133\" font-size=\"12\">so nobody really thinks that bush or mccain have a real answer for the challenges we face so what they're going to try to do is make you scared of me</text><text text-anchor=\"start\" x=\"30\" y=\"158\" font-size=\"12\">we've now finally touched it and tasted it</text><text text-anchor=\"start\" x=\"37\" y=\"161\" font-size=\"12\">mars odyssey discovered this ice six years ago but we've now touched it and tasted it which is something that hasn't been done before</text><text text-anchor=\"start\" x=\"50\" y=\"123\" font-size=\"12\">degree of durability in gains</text><text text-anchor=\"start\" x=\"58\" y=\"121\" font-size=\"12\">there now appears to be a degree of durability in gains</text><text text-anchor=\"start\" x=\"302\" y=\"84\" font-size=\"12\">the future of reading</text><text text-anchor=\"start\" x=\"310\" y=\"88\" font-size=\"12\">in an era where media consolidation is occurring at an all-too rapid pace it's essential to look for alternative news sources that are free from corporate bias the future of our rather stupid species depends on it sites like yours have made a massive impact on me over the last year i'm very grateful</text><text text-anchor=\"start\" x=\"205\" y=\"218\" font-size=\"12\">you're sitting there enjoying your trip and then all of a sudden somebody gets stabbed i imagine it would be pretty traumatic</text><text text-anchor=\"start\" x=\"196\" y=\"216\" font-size=\"12\">you're sitting there enjoying your trip and then all of a sudden somebody gets stabbed i imagine it would be pretty traumatic the way they acted was extraordinary</text><text text-anchor=\"start\" x=\"299\" y=\"163\" font-size=\"12\">the rising cost of energy is the number one issue i am hearing about from georgians and the effect these costs are having on family budgets is very real and very urgent</text><text text-anchor=\"start\" x=\"290\" y=\"166\" font-size=\"12\">the rising cost of energy is the number one issue i am hearing about from georgians and the effect these costs are having on family budgets is very real and very urgent this is a complex issue but we cannot shy away from action</text><text text-anchor=\"start\" x=\"373\" y=\"171\" font-size=\"12\">everything's on the table</text><text text-anchor=\"start\" x=\"365\" y=\"173\" font-size=\"12\">everything has to be on the table</text><text text-anchor=\"start\" x=\"261\" y=\"114\" font-size=\"12\">i don't think so</text><text text-anchor=\"start\" x=\"248\" y=\"112\" font-size=\"12\">when a player like manny becomes available i don't think there's a manager in baseball who wouldn't say they're interested</text><text text-anchor=\"start\" x=\"258\" y=\"106\" font-size=\"12\">i don't think it will leave me for a while</text><text text-anchor=\"start\" x=\"272\" y=\"119\" font-size=\"12\">i don't think it's doable without nuclear power</text><text text-anchor=\"start\" x=\"253\" y=\"120\" font-size=\"12\">there are plenty who will have a go at the right time so i don't think it's going to be an easy passage for peter whenever and i'm not sure that he'll ever be drafted</text><text text-anchor=\"start\" x=\"274\" y=\"111\" font-size=\"12\">i'm not aware of hip-hop music affecting any election so far and i don't think that this is going to be one either</text><text text-anchor=\"start\" x=\"72\" y=\"183\" font-size=\"12\">every bit of that's got to change</text><text text-anchor=\"start\" x=\"69\" y=\"188\" font-size=\"12\">we're borrowing money from china to buy oil from the persian gulf to burn it in ways that destroy the planet every bit of that's got to change</text><text text-anchor=\"start\" x=\"183\" y=\"34\" font-size=\"12\">a sense of belonging</text><text text-anchor=\"start\" x=\"191\" y=\"37\" font-size=\"12\">we have a sense of urgency to create value</text><text text-anchor=\"start\" x=\"42\" y=\"231\" font-size=\"12\">this provision strengthens standards for fha appraisals and ensures the integrity of the new fha program that offers foreclosure assistance</text><text text-anchor=\"start\" x=\"38\" y=\"236\" font-size=\"12\">while we still need to work to make appraisal standards uniform across the nation this strengthens standards for fha appraisals and ensures the integrity of the new fha program that offers foreclosure assistance</text><text text-anchor=\"start\" x=\"118\" y=\"167\" font-size=\"12\">xyz cup which is between maharathies ie ak xi v s msd xi</text><text text-anchor=\"start\" x=\"115\" y=\"173\" font-size=\"12\">xyz cup which is between maharathies ie ak xi v s msd xi quit maharathies quit your days are numbered quit rd sg srt vvs quit</text><text text-anchor=\"start\" x=\"129\" y=\"220\" font-size=\"12\">you know he's not patriotic enough he's got a funny name you know he doesn't look like all those other presidents on those dollar bills you know he's risky that's essentially the argument they're making</text><text text-anchor=\"start\" x=\"127\" y=\"214\" font-size=\"12\">so nobody really thinks that bush or mccain have a real answer for the challenges we face so what they're going to try to do is make you scared of me you know he's not patriotic enough he's got a funny name you know he doesn't look like all those other presidents on those dollar bills you know he's risky that's essentially the argument they're making</text><text text-anchor=\"start\" x=\"121\" y=\"218\" font-size=\"12\">he doesn't look like all those other presidents on those dollar bills</text><text text-anchor=\"start\" x=\"229\" y=\"320\" font-size=\"12\">we heard this bloodcurdling scream and turned around and the guy was standing up stabbing this guy repeatedly</text><text text-anchor=\"start\" x=\"238\" y=\"319\" font-size=\"12\">we heard this bloodcurdling scream and turned around and the guy was standing up stabbing this guy repeatedly like 40 or 50 times</text><text text-anchor=\"start\" x=\"389\" y=\"200\" font-size=\"12\">was cutting his head off</text><text text-anchor=\"start\" x=\"397\" y=\"198\" font-size=\"12\">was cutting his head off and pretty much gutting him</text><text text-anchor=\"start\" x=\"282\" y=\"212\" font-size=\"12\">when he was attacking him he was calm</text><text text-anchor=\"start\" x=\"291\" y=\"212\" font-size=\"12\">when he was attacking him he was calm like he was at the beach</text><text text-anchor=\"start\" x=\"284\" y=\"43\" font-size=\"12\">worthy of coming on her</text><text text-anchor=\"start\" x=\"275\" y=\"41\" font-size=\"12\">it would be worthy of coming on her</text><text text-anchor=\"start\" x=\"396\" y=\"108\" font-size=\"12\">i am a christian</text><text text-anchor=\"start\" x=\"409\" y=\"107\" font-size=\"12\">i currently attend albany technical college where i am pursuing a degree in medical assisting i am a very outgoing kind friendly and loving person</text><text text-anchor=\"start\" x=\"396\" y=\"100\" font-size=\"12\">i am a hepatitis c advocate and patient i spend many hours on the computer researching hepatitis c information and sharing it with many online groups when i need a break i always go and play pogo and it helps me relax</text><text text-anchor=\"start\" x=\"384\" y=\"105\" font-size=\"12\">i am a 24 year old i live in a small town in ohio i have been married to my wonderful husband for three years we have three beautiful children who are 7 5 2</text><text text-anchor=\"start\" x=\"403\" y=\"116\" font-size=\"12\">i am a stay at home mom who needs a break from the 17 month old that i call my son he is very active and keeps me very busy my husband and i recently relocated with his job</text><text text-anchor=\"start\" x=\"388\" y=\"115\" font-size=\"12\">i am single and looking and am told by pogo chatters that i am funny i have a serious side and am very opinionated about things in our world and life in general i don't smoke and drink socially and i am a great cook</text><text text-anchor=\"start\" x=\"111\" y=\"258\" font-size=\"12\">tomb of the dragon emperor</text><text text-anchor=\"start\" x=\"105\" y=\"262\" font-size=\"12\">the mummy tomb of the dragon emperor</text><text text-anchor=\"start\" x=\"307\" y=\"187\" font-size=\"12\">when i arrived in estonia last week</text><text text-anchor=\"start\" x=\"298\" y=\"188\" font-size=\"12\">when i arrived in estonia last week-a former soviet republic that lies just south of finland-everyone had an opinion on barack obama's speech in berlin</text><text text-anchor=\"start\" x=\"226\" y=\"161\" font-size=\"12\">what do you mean</text><text text-anchor=\"start\" x=\"216\" y=\"161\" font-size=\"12\">what do you mean marriage troubles psht we're fine see we're fine</text><text text-anchor=\"start\" x=\"237\" y=\"162\" font-size=\"12\">scott craig's list is awesome ramsey really what do you look for scott oh you know snowboards motorcycles and bed frames ramsey wait what dude that's pretty random shit</text><text text-anchor=\"start\" x=\"318\" y=\"289\" font-size=\"12\">remnant of british colonialism</text><text text-anchor=\"start\" x=\"310\" y=\"293\" font-size=\"12\">over the past five years we have come to see this as a remnant of british colonialism and it is not serving us well</text><text text-anchor=\"start\" x=\"215\" y=\"191\" font-size=\"12\">i'm trying to save the planet</text><text text-anchor=\"start\" x=\"223\" y=\"193\" font-size=\"12\">i'm trying to save the planet i'm trying to save the planet</text><text text-anchor=\"start\" x=\"123\" y=\"45\" font-size=\"12\">c program files irfanview</text><text text-anchor=\"start\" x=\"124\" y=\"51\" font-size=\"12\">c program files irfanview i view32 exe</text><text text-anchor=\"start\" x=\"301\" y=\"21\" font-size=\"12\">tv interview by west seattle mom of europe murder suspect</text><text text-anchor=\"start\" x=\"292\" y=\"20\" font-size=\"12\">tv interview by west seattle mom of europe murder suspect indie pop indie rock reviews at three imaginary girls seattle's sparkly indie-pop press three imaginary girls a ferry survey passed out on random routes in july and august is supposed to help find ways to make the system work better but passenger complaints show that it will take more than asking questions to cure what ails the ferries a ferry survey passed out on random routes in july and august is supposed to help find ways to make the system work better but passenger complaints show that it will take more than asking questions to cure what ails the ferries democrats defend tribal compacts state democrats joined forces to defend gov chris gregoire's decision to allow a big expansion of tribal gambling while abandoning a provision that would have provided hundreds of millions of dollars in new revenue for the state mccain campaign drives straight talk express</text></svg>"
      ],
      "text/plain": [
       "<IPython.core.display.SVG object>"
      ]
     },
     "execution_count": 94,
     "metadata": {},
     "output_type": "execute_result"
    }
   ],
   "source": [
    "SVG(skn.visualization.svg_graph(g, names=names))"
   ]
  },
  {
   "cell_type": "markdown",
   "id": "24446a20-cb12-49b1-97b2-bbd7f0cf966a",
   "metadata": {
    "tags": []
   },
   "source": [
    "## Partition the graph\n",
    "\n",
    "We now have an inclusion graph and a set of sentence fragments of our data, but still no sentence _clusters_. We know our graph is directed and acyclic: there are \"sinks\", nodes with no outgoing edge. These sinks correspond to sentence fragments for which a whole family of fragments is included.\n",
    "\n",
    "We expect our sentence clusters to each contain one sink. Our method is as follows :\n",
    "- Each sink (= node with out-degree $0$) will be in its own cluster,\n",
    "- For each ndoe $v$ connected to a sink $u$, $C(v) = C(u)$,\n",
    "- For each node $x$ not connected to a sink, we randomly assign it to a neighbouring cluster..\n",
    "\n",
    "This is equivalent to assigning nodes to clusters by performing a breadth first search on the transposed graph."
   ]
  },
  {
   "cell_type": "markdown",
   "id": "e782e841-549f-4615-af7a-3c6b8cf25a1b",
   "metadata": {},
   "source": [
    "Let us first identify sinks, using the function `get_degrees` of our library."
   ]
  },
  {
   "cell_type": "code",
   "execution_count": 95,
   "id": "1828b3c3-02f9-4527-9452-f3e56395305b",
   "metadata": {},
   "outputs": [
    {
     "data": {
      "text/plain": [
       "45"
      ]
     },
     "execution_count": 95,
     "metadata": {},
     "output_type": "execute_result"
    }
   ],
   "source": [
    "skn.utils.get_degrees(g)\n",
    "sinks = np.where(skn.utils.get_degrees(g) == 0)[0]\n",
    "len(sinks)"
   ]
  },
  {
   "cell_type": "markdown",
   "id": "ac8b1aeb-dbfd-4c09-973b-ad46288154c4",
   "metadata": {},
   "source": [
    "We now have the sinks. We can, for each sink and its neighbours, assign it an integer corresponding to its cluster (each if the $k$ sinks will have a different integer, between $0$ and $k-1$). Then, we know the neighbours of a sink are part of the same cluster. Once we have assigned sinks' neighbours, they know have a cluster identifier, so we can assign their neighbours, and so on. This way of exploring the graph is called a **Breadth-First Search** (BFS)."
   ]
  },
  {
   "cell_type": "code",
   "execution_count": 98,
   "id": "37fd365d-b8b9-4b97-bbd3-592a92987d41",
   "metadata": {},
   "outputs": [],
   "source": [
    "from collections import deque\n",
    "import random\n",
    "# implement here the graph partitioning\n",
    "\n",
    "#On a un problème si par exemple un noeud est connecté à 2 puits differents, on considerera qu'il sera dans le cluster du premier puits trouvé\n",
    "\n",
    "n=g.shape[0]\n",
    "clusters={}\n",
    "for i in range(len(sinks)):\n",
    "    clusters[int(sinks[i])]=i\n",
    "\n",
    "for i in range(n):\n",
    "    if i not in clusters:\n",
    "        \n",
    "        if g.indptr[i+1]==g.indptr[i]:\n",
    "            clusters[i]=None\n",
    "\n",
    "        for j in g.indices[g.indptr[i]:g.indptr[i+1]]:\n",
    "            if j in sinks:\n",
    "                clusters[i]=clusters[j]\n",
    "            break\n",
    "\n",
    "while len(clusters)<n:\n",
    "    for i in range(n):\n",
    "        if i not in clusters:\n",
    "            L=[]\n",
    "            for j in g.indices[g.indptr[i]:g.indptr[i+1]]:\n",
    "                if j in clusters:\n",
    "                    L.append(clusters[j])\n",
    "            clusters[i]=L[random.randint(0,len(L)-1)]\n",
    "\n",
    "# print(g.indices)\n",
    "# print(g.indptr)\n",
    "# print(g.data)\n"
   ]
  },
  {
   "cell_type": "markdown",
   "id": "a55c4395-010e-4ff8-a9da-46f484d30aa5",
   "metadata": {},
   "source": [
    "We can visualise the graph again, coloring nodes by their respective cluster."
   ]
  },
  {
   "cell_type": "code",
   "execution_count": 99,
   "id": "1d44ffa1-08cc-4c36-83b6-73ebb4ffa65c",
   "metadata": {},
   "outputs": [
    {
     "data": {
      "image/svg+xml": [
       "<svg xmlns=\"http://www.w3.org/2000/svg\" width=\"440\" height=\"340\">\n",
       "<defs><marker id=\"arrow-black\" markerWidth=\"10\" markerHeight=\"10\" refX=\"9\" refY=\"3\" orient=\"auto\">\n",
       "<path d=\"M0,0 L0,6 L9,3 z\" fill=\"black\"/></marker></defs>\n",
       "<path stroke-width=\"1\" stroke=\"black\" d=\"M 151 219 152 220\" marker-end=\"url(#arrow-black)\"/>\n",
       "<path stroke-width=\"1\" stroke=\"black\" d=\"M 185 144 183 142\" marker-end=\"url(#arrow-black)\"/>\n",
       "<path stroke-width=\"1\" stroke=\"black\" d=\"M 185 144 182 145\" marker-end=\"url(#arrow-black)\"/>\n",
       "<path stroke-width=\"1\" stroke=\"black\" d=\"M 185 144 185 143\" marker-end=\"url(#arrow-black)\"/>\n",
       "<path stroke-width=\"1\" stroke=\"black\" d=\"M 176 147 178 143\" marker-end=\"url(#arrow-black)\"/>\n",
       "<path stroke-width=\"1\" stroke=\"black\" d=\"M 179 143 179 143\" marker-end=\"url(#arrow-black)\"/>\n",
       "<path stroke-width=\"1\" stroke=\"black\" d=\"M 179 143 179 141\" marker-end=\"url(#arrow-black)\"/>\n",
       "<path stroke-width=\"1\" stroke=\"black\" d=\"M 175 126 177 131\" marker-end=\"url(#arrow-black)\"/>\n",
       "<path stroke-width=\"1\" stroke=\"black\" d=\"M 175 126 175 126\" marker-end=\"url(#arrow-black)\"/>\n",
       "<path stroke-width=\"1\" stroke=\"black\" d=\"M 181 126 180 131\" marker-end=\"url(#arrow-black)\"/>\n",
       "<path stroke-width=\"1\" stroke=\"black\" d=\"M 20 198 20 199\" marker-end=\"url(#arrow-black)\"/>\n",
       "<path stroke-width=\"1\" stroke=\"black\" d=\"M 182 149 182 150\" marker-end=\"url(#arrow-black)\"/>\n",
       "<path stroke-width=\"1\" stroke=\"black\" d=\"M 182 149 181 143\" marker-end=\"url(#arrow-black)\"/>\n",
       "<path stroke-width=\"1\" stroke=\"black\" d=\"M 182 149 182 148\" marker-end=\"url(#arrow-black)\"/>\n",
       "<path stroke-width=\"1\" stroke=\"black\" d=\"M 182 149 183 148\" marker-end=\"url(#arrow-black)\"/>\n",
       "<path stroke-width=\"1\" stroke=\"black\" d=\"M 226 114 227 116\" marker-end=\"url(#arrow-black)\"/>\n",
       "<path stroke-width=\"1\" stroke=\"black\" d=\"M 226 114 227 113\" marker-end=\"url(#arrow-black)\"/>\n",
       "<path stroke-width=\"1\" stroke=\"black\" d=\"M 226 114 226 115\" marker-end=\"url(#arrow-black)\"/>\n",
       "<path stroke-width=\"1\" stroke=\"black\" d=\"M 232 115 232 116\" marker-end=\"url(#arrow-black)\"/>\n",
       "<path stroke-width=\"1\" stroke=\"black\" d=\"M 232 115 232 113\" marker-end=\"url(#arrow-black)\"/>\n",
       "<path stroke-width=\"1\" stroke=\"black\" d=\"M 119 171 119 170\" marker-end=\"url(#arrow-black)\"/>\n",
       "<path stroke-width=\"1\" stroke=\"black\" d=\"M 286 183 287 182\" marker-end=\"url(#arrow-black)\"/>\n",
       "<path stroke-width=\"1\" stroke=\"black\" d=\"M 244 316 243 315\" marker-end=\"url(#arrow-black)\"/>\n",
       "<path stroke-width=\"1\" stroke=\"black\" d=\"M 244 316 244 317\" marker-end=\"url(#arrow-black)\"/>\n",
       "<path stroke-width=\"1\" stroke=\"black\" d=\"M 238 320 238 318\" marker-end=\"url(#arrow-black)\"/>\n",
       "<path stroke-width=\"1\" stroke=\"black\" d=\"M 171 142 174 140\" marker-end=\"url(#arrow-black)\"/>\n",
       "<path stroke-width=\"1\" stroke=\"black\" d=\"M 171 142 171 143\" marker-end=\"url(#arrow-black)\"/>\n",
       "<path stroke-width=\"1\" stroke=\"black\" d=\"M 171 142 173 142\" marker-end=\"url(#arrow-black)\"/>\n",
       "<path stroke-width=\"1\" stroke=\"black\" d=\"M 286 234 285 233\" marker-end=\"url(#arrow-black)\"/>\n",
       "<path stroke-width=\"1\" stroke=\"black\" d=\"M 286 234 285 233\" marker-end=\"url(#arrow-black)\"/>\n",
       "<path stroke-width=\"1\" stroke=\"black\" d=\"M 279 231 279 231\" marker-end=\"url(#arrow-black)\"/>\n",
       "<path stroke-width=\"1\" stroke=\"black\" d=\"M 31 128 32 126\" marker-end=\"url(#arrow-black)\"/>\n",
       "<path stroke-width=\"1\" stroke=\"black\" d=\"M 35 112 34 114\" marker-end=\"url(#arrow-black)\"/>\n",
       "<path stroke-width=\"1\" stroke=\"black\" d=\"M 203 71 203 69\" marker-end=\"url(#arrow-black)\"/>\n",
       "<path stroke-width=\"1\" stroke=\"black\" d=\"M 203 71 203 73\" marker-end=\"url(#arrow-black)\"/>\n",
       "<path stroke-width=\"1\" stroke=\"black\" d=\"M 378 120 378 121\" marker-end=\"url(#arrow-black)\"/>\n",
       "<path stroke-width=\"1\" stroke=\"black\" d=\"M 101 227 101 227\" marker-end=\"url(#arrow-black)\"/>\n",
       "<path stroke-width=\"1\" stroke=\"black\" d=\"M 385 229 385 227\" marker-end=\"url(#arrow-black)\"/>\n",
       "<path stroke-width=\"1\" stroke=\"black\" d=\"M 153 187 153 187\" marker-end=\"url(#arrow-black)\"/>\n",
       "<path stroke-width=\"1\" stroke=\"black\" d=\"M 179 27 180 26\" marker-end=\"url(#arrow-black)\"/>\n",
       "<path stroke-width=\"1\" stroke=\"black\" d=\"M 303 124 302 123\" marker-end=\"url(#arrow-black)\"/>\n",
       "<path stroke-width=\"1\" stroke=\"black\" d=\"M 123 274 125 277\" marker-end=\"url(#arrow-black)\"/>\n",
       "<path stroke-width=\"1\" stroke=\"black\" d=\"M 123 274 122 270\" marker-end=\"url(#arrow-black)\"/>\n",
       "<path stroke-width=\"1\" stroke=\"black\" d=\"M 123 274 126 273\" marker-end=\"url(#arrow-black)\"/>\n",
       "<path stroke-width=\"1\" stroke=\"black\" d=\"M 123 274 121 277\" marker-end=\"url(#arrow-black)\"/>\n",
       "<path stroke-width=\"1\" stroke=\"black\" d=\"M 123 274 119 273\" marker-end=\"url(#arrow-black)\"/>\n",
       "<path stroke-width=\"1\" stroke=\"black\" d=\"M 195 247 195 248\" marker-end=\"url(#arrow-black)\"/>\n",
       "<path stroke-width=\"1\" stroke=\"black\" d=\"M 327 290 326 291\" marker-end=\"url(#arrow-black)\"/>\n",
       "<path stroke-width=\"1\" stroke=\"black\" d=\"M 97 119 97 120\" marker-end=\"url(#arrow-black)\"/>\n",
       "<path stroke-width=\"1\" stroke=\"black\" d=\"M 240 236 241 237\" marker-end=\"url(#arrow-black)\"/>\n",
       "<path stroke-width=\"1\" stroke=\"black\" d=\"M 271 147 271 146\" marker-end=\"url(#arrow-black)\"/>\n",
       "<path stroke-width=\"1\" stroke=\"black\" d=\"M 277 144 277 144\" marker-end=\"url(#arrow-black)\"/>\n",
       "<path stroke-width=\"1\" stroke=\"black\" d=\"M 277 144 276 144\" marker-end=\"url(#arrow-black)\"/>\n",
       "<path stroke-width=\"1\" stroke=\"black\" d=\"M 327 174 327 175\" marker-end=\"url(#arrow-black)\"/>\n",
       "<path stroke-width=\"1\" stroke=\"black\" d=\"M 261 62 261 61\" marker-end=\"url(#arrow-black)\"/>\n",
       "<path stroke-width=\"1\" stroke=\"black\" d=\"M 243 161 244 160\" marker-end=\"url(#arrow-black)\"/>\n",
       "<path stroke-width=\"1\" stroke=\"black\" d=\"M 295 273 295 274\" marker-end=\"url(#arrow-black)\"/>\n",
       "<path stroke-width=\"1\" stroke=\"black\" d=\"M 66 177 68 174\" marker-end=\"url(#arrow-black)\"/>\n",
       "<path stroke-width=\"1\" stroke=\"black\" d=\"M 66 177 69 178\" marker-end=\"url(#arrow-black)\"/>\n",
       "<path stroke-width=\"1\" stroke=\"black\" d=\"M 66 177 65 172\" marker-end=\"url(#arrow-black)\"/>\n",
       "<path stroke-width=\"1\" stroke=\"black\" d=\"M 66 177 66 182\" marker-end=\"url(#arrow-black)\"/>\n",
       "<path stroke-width=\"1\" stroke=\"black\" d=\"M 66 177 63 179\" marker-end=\"url(#arrow-black)\"/>\n",
       "<path stroke-width=\"1\" stroke=\"black\" d=\"M 225 273 224 272\" marker-end=\"url(#arrow-black)\"/>\n",
       "<path stroke-width=\"1\" stroke=\"black\" d=\"M 335 121 335 123\" marker-end=\"url(#arrow-black)\"/>\n",
       "<path stroke-width=\"1\" stroke=\"black\" d=\"M 130 97 130 94\" marker-end=\"url(#arrow-black)\"/>\n",
       "<path stroke-width=\"1\" stroke=\"black\" d=\"M 130 97 129 99\" marker-end=\"url(#arrow-black)\"/>\n",
       "<path stroke-width=\"1\" stroke=\"black\" d=\"M 345 249 345 250\" marker-end=\"url(#arrow-black)\"/>\n",
       "<path stroke-width=\"1\" stroke=\"black\" d=\"M 419 155 420 157\" marker-end=\"url(#arrow-black)\"/>\n",
       "<path stroke-width=\"1\" stroke=\"black\" d=\"M 225 197 225 196\" marker-end=\"url(#arrow-black)\"/>\n",
       "<path stroke-width=\"1\" stroke=\"black\" d=\"M 89 77 90 77\" marker-end=\"url(#arrow-black)\"/>\n",
       "<circle cx=\"151\" cy=\"219\" r=\"7.0\" style=\"fill:blue;stroke:black;stroke-width:1.0\"/>\n",
       "<circle cx=\"155\" cy=\"225\" r=\"7.0\" style=\"fill:blue;stroke:black;stroke-width:1.0\"/>\n",
       "<circle cx=\"185\" cy=\"144\" r=\"7.0\" style=\"fill:red;stroke:black;stroke-width:1.0\"/>\n",
       "<circle cx=\"179\" cy=\"137\" r=\"7.0\" style=\"fill:red;stroke:black;stroke-width:1.0\"/>\n",
       "<circle cx=\"176\" cy=\"147\" r=\"7.0\" style=\"fill:red;stroke:black;stroke-width:1.0\"/>\n",
       "<circle cx=\"179\" cy=\"143\" r=\"7.0\" style=\"fill:red;stroke:black;stroke-width:1.0\"/>\n",
       "<circle cx=\"175\" cy=\"126\" r=\"7.0\" style=\"fill:red;stroke:black;stroke-width:1.0\"/>\n",
       "<circle cx=\"181\" cy=\"126\" r=\"7.0\" style=\"fill:red;stroke:black;stroke-width:1.0\"/>\n",
       "<circle cx=\"20\" cy=\"198\" r=\"7.0\" style=\"fill:green;stroke:black;stroke-width:1.0\"/>\n",
       "<circle cx=\"21\" cy=\"205\" r=\"7.0\" style=\"fill:green;stroke:black;stroke-width:1.0\"/>\n",
       "<circle cx=\"182\" cy=\"149\" r=\"7.0\" style=\"fill:red;stroke:black;stroke-width:1.0\"/>\n",
       "<circle cx=\"226\" cy=\"114\" r=\"7.0\" style=\"fill:orange;stroke:black;stroke-width:1.0\"/>\n",
       "<circle cx=\"229\" cy=\"122\" r=\"7.0\" style=\"fill:orange;stroke:black;stroke-width:1.0\"/>\n",
       "<circle cx=\"230\" cy=\"107\" r=\"7.0\" style=\"fill:purple;stroke:black;stroke-width:1.0\"/>\n",
       "<circle cx=\"232\" cy=\"115\" r=\"7.0\" style=\"fill:orange;stroke:black;stroke-width:1.0\"/>\n",
       "<circle cx=\"119\" cy=\"171\" r=\"7.0\" style=\"fill:yellow;stroke:black;stroke-width:1.0\"/>\n",
       "<circle cx=\"119\" cy=\"164\" r=\"7.0\" style=\"fill:yellow;stroke:black;stroke-width:1.0\"/>\n",
       "<circle cx=\"286\" cy=\"183\" r=\"7.0\" style=\"fill:fuchsia;stroke:black;stroke-width:1.0\"/>\n",
       "<circle cx=\"290\" cy=\"176\" r=\"7.0\" style=\"fill:fuchsia;stroke:black;stroke-width:1.0\"/>\n",
       "<circle cx=\"244\" cy=\"316\" r=\"7.0\" style=\"fill:olive;stroke:black;stroke-width:1.0\"/>\n",
       "<circle cx=\"238\" cy=\"312\" r=\"7.0\" style=\"fill:olive;stroke:black;stroke-width:1.0\"/>\n",
       "<circle cx=\"238\" cy=\"320\" r=\"7.0\" style=\"fill:olive;stroke:black;stroke-width:1.0\"/>\n",
       "<circle cx=\"171\" cy=\"142\" r=\"7.0\" style=\"fill:red;stroke:black;stroke-width:1.0\"/>\n",
       "<circle cx=\"286\" cy=\"234\" r=\"7.0\" style=\"fill:aqua;stroke:black;stroke-width:1.0\"/>\n",
       "<circle cx=\"284\" cy=\"227\" r=\"7.0\" style=\"fill:aqua;stroke:black;stroke-width:1.0\"/>\n",
       "<circle cx=\"279\" cy=\"231\" r=\"7.0\" style=\"fill:aqua;stroke:black;stroke-width:1.0\"/>\n",
       "<circle cx=\"31\" cy=\"128\" r=\"7.0\" style=\"fill:brown;stroke:black;stroke-width:1.0\"/>\n",
       "<circle cx=\"33\" cy=\"120\" r=\"7.0\" style=\"fill:brown;stroke:black;stroke-width:1.0\"/>\n",
       "<circle cx=\"35\" cy=\"112\" r=\"7.0\" style=\"fill:brown;stroke:black;stroke-width:1.0\"/>\n",
       "<circle cx=\"203\" cy=\"71\" r=\"7.0\" style=\"fill:blue;stroke:black;stroke-width:1.0\"/>\n",
       "<circle cx=\"203\" cy=\"63\" r=\"7.0\" style=\"fill:blue;stroke:black;stroke-width:1.0\"/>\n",
       "<circle cx=\"203\" cy=\"79\" r=\"7.0\" style=\"fill:red;stroke:black;stroke-width:1.0\"/>\n",
       "<circle cx=\"378\" cy=\"120\" r=\"7.0\" style=\"fill:green;stroke:black;stroke-width:1.0\"/>\n",
       "<circle cx=\"378\" cy=\"127\" r=\"7.0\" style=\"fill:green;stroke:black;stroke-width:1.0\"/>\n",
       "<circle cx=\"101\" cy=\"227\" r=\"7.0\" style=\"fill:orange;stroke:black;stroke-width:1.0\"/>\n",
       "<circle cx=\"97\" cy=\"232\" r=\"7.0\" style=\"fill:orange;stroke:black;stroke-width:1.0\"/>\n",
       "<circle cx=\"385\" cy=\"229\" r=\"7.0\" style=\"fill:purple;stroke:black;stroke-width:1.0\"/>\n",
       "<circle cx=\"384\" cy=\"221\" r=\"7.0\" style=\"fill:purple;stroke:black;stroke-width:1.0\"/>\n",
       "<circle cx=\"153\" cy=\"187\" r=\"7.0\" style=\"fill:yellow;stroke:black;stroke-width:1.0\"/>\n",
       "<circle cx=\"150\" cy=\"181\" r=\"7.0\" style=\"fill:yellow;stroke:black;stroke-width:1.0\"/>\n",
       "<circle cx=\"179\" cy=\"27\" r=\"7.0\" style=\"fill:fuchsia;stroke:black;stroke-width:1.0\"/>\n",
       "<circle cx=\"180\" cy=\"20\" r=\"7.0\" style=\"fill:fuchsia;stroke:black;stroke-width:1.0\"/>\n",
       "<circle cx=\"303\" cy=\"124\" r=\"7.0\" style=\"fill:olive;stroke:black;stroke-width:1.0\"/>\n",
       "<circle cx=\"301\" cy=\"117\" r=\"7.0\" style=\"fill:olive;stroke:black;stroke-width:1.0\"/>\n",
       "<circle cx=\"123\" cy=\"274\" r=\"7.0\" style=\"fill:aqua;stroke:black;stroke-width:1.0\"/>\n",
       "<circle cx=\"129\" cy=\"282\" r=\"7.0\" style=\"fill:aqua;stroke:black;stroke-width:1.0\"/>\n",
       "<circle cx=\"122\" cy=\"264\" r=\"7.0\" style=\"fill:brown;stroke:black;stroke-width:1.0\"/>\n",
       "<circle cx=\"132\" cy=\"271\" r=\"7.0\" style=\"fill:blue;stroke:black;stroke-width:1.0\"/>\n",
       "<circle cx=\"118\" cy=\"283\" r=\"7.0\" style=\"fill:red;stroke:black;stroke-width:1.0\"/>\n",
       "<circle cx=\"113\" cy=\"272\" r=\"7.0\" style=\"fill:green;stroke:black;stroke-width:1.0\"/>\n",
       "<circle cx=\"195\" cy=\"247\" r=\"7.0\" style=\"fill:orange;stroke:black;stroke-width:1.0\"/>\n",
       "<circle cx=\"194\" cy=\"254\" r=\"7.0\" style=\"fill:orange;stroke:black;stroke-width:1.0\"/>\n",
       "<circle cx=\"327\" cy=\"290\" r=\"7.0\" style=\"fill:purple;stroke:black;stroke-width:1.0\"/>\n",
       "<circle cx=\"323\" cy=\"296\" r=\"7.0\" style=\"fill:purple;stroke:black;stroke-width:1.0\"/>\n",
       "<circle cx=\"97\" cy=\"119\" r=\"7.0\" style=\"fill:yellow;stroke:black;stroke-width:1.0\"/>\n",
       "<circle cx=\"97\" cy=\"126\" r=\"7.0\" style=\"fill:yellow;stroke:black;stroke-width:1.0\"/>\n",
       "<circle cx=\"240\" cy=\"236\" r=\"7.0\" style=\"fill:fuchsia;stroke:black;stroke-width:1.0\"/>\n",
       "<circle cx=\"243\" cy=\"243\" r=\"7.0\" style=\"fill:fuchsia;stroke:black;stroke-width:1.0\"/>\n",
       "<circle cx=\"271\" cy=\"147\" r=\"7.0\" style=\"fill:olive;stroke:black;stroke-width:1.0\"/>\n",
       "<circle cx=\"271\" cy=\"140\" r=\"7.0\" style=\"fill:olive;stroke:black;stroke-width:1.0\"/>\n",
       "<circle cx=\"277\" cy=\"144\" r=\"7.0\" style=\"fill:olive;stroke:black;stroke-width:1.0\"/>\n",
       "<circle cx=\"327\" cy=\"174\" r=\"7.0\" style=\"fill:aqua;stroke:black;stroke-width:1.0\"/>\n",
       "<circle cx=\"327\" cy=\"181\" r=\"7.0\" style=\"fill:aqua;stroke:black;stroke-width:1.0\"/>\n",
       "<circle cx=\"261\" cy=\"62\" r=\"7.0\" style=\"fill:brown;stroke:black;stroke-width:1.0\"/>\n",
       "<circle cx=\"259\" cy=\"55\" r=\"7.0\" style=\"fill:brown;stroke:black;stroke-width:1.0\"/>\n",
       "<circle cx=\"243\" cy=\"161\" r=\"7.0\" style=\"fill:blue;stroke:black;stroke-width:1.0\"/>\n",
       "<circle cx=\"244\" cy=\"154\" r=\"7.0\" style=\"fill:blue;stroke:black;stroke-width:1.0\"/>\n",
       "<circle cx=\"295\" cy=\"273\" r=\"7.0\" style=\"fill:red;stroke:black;stroke-width:1.0\"/>\n",
       "<circle cx=\"293\" cy=\"280\" r=\"7.0\" style=\"fill:red;stroke:black;stroke-width:1.0\"/>\n",
       "<circle cx=\"66\" cy=\"177\" r=\"7.0\" style=\"fill:green;stroke:black;stroke-width:1.0\"/>\n",
       "<circle cx=\"71\" cy=\"169\" r=\"7.0\" style=\"fill:green;stroke:black;stroke-width:1.0\"/>\n",
       "<circle cx=\"75\" cy=\"181\" r=\"7.0\" style=\"fill:orange;stroke:black;stroke-width:1.0\"/>\n",
       "<circle cx=\"64\" cy=\"166\" r=\"7.0\" style=\"fill:purple;stroke:black;stroke-width:1.0\"/>\n",
       "<circle cx=\"66\" cy=\"188\" r=\"7.0\" style=\"fill:yellow;stroke:black;stroke-width:1.0\"/>\n",
       "<circle cx=\"57\" cy=\"180\" r=\"7.0\" style=\"fill:fuchsia;stroke:black;stroke-width:1.0\"/>\n",
       "<circle cx=\"225\" cy=\"273\" r=\"7.0\" style=\"fill:olive;stroke:black;stroke-width:1.0\"/>\n",
       "<circle cx=\"223\" cy=\"266\" r=\"7.0\" style=\"fill:olive;stroke:black;stroke-width:1.0\"/>\n",
       "<circle cx=\"335\" cy=\"121\" r=\"7.0\" style=\"fill:aqua;stroke:black;stroke-width:1.0\"/>\n",
       "<circle cx=\"336\" cy=\"129\" r=\"7.0\" style=\"fill:aqua;stroke:black;stroke-width:1.0\"/>\n",
       "<circle cx=\"130\" cy=\"97\" r=\"7.0\" style=\"fill:brown;stroke:black;stroke-width:1.0\"/>\n",
       "<circle cx=\"130\" cy=\"88\" r=\"7.0\" style=\"fill:brown;stroke:black;stroke-width:1.0\"/>\n",
       "<circle cx=\"129\" cy=\"105\" r=\"7.0\" style=\"fill:blue;stroke:black;stroke-width:1.0\"/>\n",
       "<circle cx=\"345\" cy=\"249\" r=\"7.0\" style=\"fill:red;stroke:black;stroke-width:1.0\"/>\n",
       "<circle cx=\"345\" cy=\"256\" r=\"7.0\" style=\"fill:red;stroke:black;stroke-width:1.0\"/>\n",
       "<circle cx=\"419\" cy=\"155\" r=\"7.0\" style=\"fill:green;stroke:black;stroke-width:1.0\"/>\n",
       "<circle cx=\"420\" cy=\"163\" r=\"7.0\" style=\"fill:green;stroke:black;stroke-width:1.0\"/>\n",
       "<circle cx=\"225\" cy=\"197\" r=\"7.0\" style=\"fill:orange;stroke:black;stroke-width:1.0\"/>\n",
       "<circle cx=\"226\" cy=\"190\" r=\"7.0\" style=\"fill:orange;stroke:black;stroke-width:1.0\"/>\n",
       "<circle cx=\"89\" cy=\"77\" r=\"7.0\" style=\"fill:purple;stroke:black;stroke-width:1.0\"/>\n",
       "<circle cx=\"92\" cy=\"71\" r=\"7.0\" style=\"fill:purple;stroke:black;stroke-width:1.0\"/>\n",
       "</svg>"
      ],
      "text/plain": [
       "<IPython.core.display.SVG object>"
      ]
     },
     "execution_count": 99,
     "metadata": {},
     "output_type": "execute_result"
    }
   ],
   "source": [
    "SVG(skn.visualization.svg_graph(g, labels=clusters))"
   ]
  },
  {
   "cell_type": "markdown",
   "id": "3b924c3e-7e0a-42a9-a671-9bd13b88f7fd",
   "metadata": {},
   "source": [
    "## Identify _threads_ over time\n"
   ]
  },
  {
   "cell_type": "code",
   "execution_count": 101,
   "id": "fc46ec84-d723-467b-b8e3-5f48de339c89",
   "metadata": {},
   "outputs": [
    {
     "data": {
      "text/plain": [
       "[(1, 1165, 1165), (38, 946, 946), (14, 876, 876), (7, 592, 592), (8, 348, 348)]"
      ]
     },
     "execution_count": 101,
     "metadata": {},
     "output_type": "execute_result"
    }
   ],
   "source": [
    "from operator import itemgetter\n",
    "\n",
    "\n",
    "\n",
    "threads = {}\n",
    "for x in range(len(clusters)):\n",
    "    c_x = clusters[x]\n",
    "    \n",
    "    if c_x in threads:\n",
    "        threads[c_x][\"domains\"].extend(quotes[names[x]][\"domains\"])\n",
    "        threads[c_x][\"timestamps\"].extend(quotes[names[x]][\"timestamps\"])\n",
    "    else:\n",
    "        threads[c_x] = {\"domains\": quotes[names[x]][\"domains\"], \"timestamps\": quotes[names[x]][\"timestamps\"]}\n",
    "sorted([ (x, len(threads[x][\"domains\"]), len(threads[x][\"timestamps\"])) for x in threads ], key=itemgetter(1), reverse=True)[:5]"
   ]
  },
  {
   "cell_type": "markdown",
   "id": "f158f4e9-4b05-43a0-ba40-85d5e5956a59",
   "metadata": {},
   "source": [
    "Display the sentences associated with the most frequent thread."
   ]
  },
  {
   "cell_type": "code",
   "execution_count": 102,
   "id": "42da496e-e702-4e8f-b82d-01cdfb128cca",
   "metadata": {},
   "outputs": [
    {
     "name": "stdout",
     "output_type": "stream",
     "text": [
      "Les phrases associées au thread le plus fréquent sont :\n",
      " - playing the race card\n",
      " - barack obama has played the race card and he played it from the bottom of the deck it's divisive negative shameful and wrong\n",
      " - barack obama has played the race card and he played it from the bottom of the deck\n",
      " - played the race card and he played it from the bottom of the deck\n",
      " - divisive negative shameful and wrong\n",
      " - it's divisive negative shameful and wrong\n",
      " - played the race card\n",
      " - from the bottom of the deck\n"
     ]
    }
   ],
   "source": [
    "\n",
    "max_thread = max(threads, key=lambda x: len(threads[x][\"domains\"]))  # Le thread avec le plus de domaines\n",
    "\n",
    "print(\"Les phrases associées au thread le plus fréquent sont :\")\n",
    "for x in range(len(clusters)):\n",
    "    if clusters[x] == max_thread:  \n",
    "        print(' - '+ names[x]) "
   ]
  },
  {
   "cell_type": "markdown",
   "id": "a53c8d3e-51c7-427b-a234-7d7a2bcdfe33",
   "metadata": {},
   "source": [
    "Display the frequent domain names associated with most frequent fragments."
   ]
  },
  {
   "cell_type": "code",
   "execution_count": 103,
   "id": "84b1ec6a-d26a-4ee7-8c08-007a97d0095a",
   "metadata": {},
   "outputs": [
    {
     "name": "stdout",
     "output_type": "stream",
     "text": [
      "Les domaines les plus fréquents pour le fragments le plus frequent sont :\n",
      " - http://blog.washingtonpost.com/the-trail/2008/07/31/mccain_camp_obama_has_played_t.html?nav=rss_email/components Count : 38\n",
      " - http://news.originalsignal.com/article/923825/the-caucus-mccain-camp-says-obama-is-playing-the-race-card.html Count : 26\n",
      " - http://blogrunner.com/snapshot/d/1/2/mccain_camp_obama_has_played_the_race_card Count : 24\n"
     ]
    }
   ],
   "source": [
    "domain_counts = {}\n",
    "for domain in threads[max_thread]['domains']:\n",
    "    if domain in domain_counts:\n",
    "        domain_counts[domain] += 1\n",
    "    else:\n",
    "        domain_counts[domain] = 1\n",
    "\n",
    "\n",
    "sorted_domains = sorted(domain_counts.items(), key=lambda x: x[1], reverse=True)\n",
    "\n",
    "print(\"Les domaines les plus fréquents pour le fragments le plus frequent sont :\")\n",
    "for domain, count in sorted_domains[:3]:\n",
    "    print(' - ' + domain + ' Count : ' + str(count))\n"
   ]
  },
  {
   "cell_type": "markdown",
   "id": "04b60ef3-0229-407a-bacf-a52508a8ba20",
   "metadata": {},
   "source": [
    "## Algorithmic complexity\n",
    "\n",
    "Give an estimation of the algorithmic complexity (time and space) of the method. If you have time, you can offer a parametrised version (by $L$ and $M$) !"
   ]
  },
  {
   "cell_type": "markdown",
   "id": "e20ce550",
   "metadata": {},
   "source": [
    "En temps : \n",
    "\n",
    "Les algos sont à peu près tous en O(n) où n le nombre de phrase prises en compte, cependant il y en a 2 plus longs, celui sur la propagation des cluster qui peut être jusqu'en O((k/2)^2) dans le pire des cas (si le graphe est complet, avec k le nombre de sommet), ce qui n'est presque jamais les cas, donc ce n'est pas un problème. La pire complexité reste l'algorithme qui crée le graphe, l'algo s'effectue en O(n^2 * l) avec n le nombre de phrase après filtration et l le nombre max de lettre par phrase (on parcours toutes les lettres de chaque phrase pour construire les listes de mots), c'est cette partie du programme qui est longue à éxecuter et oblige l'utilisation de 'peu' de data.\n",
    "\n",
    "En espace : \n",
    "\n",
    "La complexité en espace est maximum durant le même algo que pour le temps,de la même manière la complexité spatial est en O(n^2 * m) où n le nombre de phrase après filtration et m le nombre de mot max par phrase."
   ]
  }
 ],
 "metadata": {
  "kernelspec": {
   "display_name": "Python 3",
   "language": "python",
   "name": "python3"
  },
  "language_info": {
   "codemirror_mode": {
    "name": "ipython",
    "version": 3
   },
   "file_extension": ".py",
   "mimetype": "text/x-python",
   "name": "python",
   "nbconvert_exporter": "python",
   "pygments_lexer": "ipython3",
   "version": "3.12.8"
  }
 },
 "nbformat": 4,
 "nbformat_minor": 5
}
