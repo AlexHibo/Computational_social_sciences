{
 "cells": [
  {
   "cell_type": "markdown",
   "metadata": {},
   "source": [
    "## Lab on real-world graph analysis"
   ]
  },
  {
   "cell_type": "markdown",
   "metadata": {},
   "source": [
    "²"
   ]
  },
  {
   "cell_type": "markdown",
   "metadata": {},
   "source": [
    "The objective of this lab is to get a feeling of real-world graphs."
   ]
  },
  {
   "cell_type": "markdown",
   "metadata": {},
   "source": []
  },
  {
   "cell_type": "markdown",
   "metadata": {},
   "source": [
    "## Import"
   ]
  },
  {
   "cell_type": "code",
   "execution_count": 1,
   "metadata": {},
   "outputs": [
    {
     "data": {
      "text/plain": [
       "'3.8.3'"
      ]
     },
     "execution_count": 1,
     "metadata": {},
     "output_type": "execute_result"
    }
   ],
   "source": [
    "import platform\n",
    "platform.python_version()"
   ]
  },
  {
   "cell_type": "code",
   "execution_count": 2,
   "metadata": {},
   "outputs": [],
   "source": [
    "import numpy as np"
   ]
  },
  {
   "cell_type": "code",
   "execution_count": 3,
   "metadata": {},
   "outputs": [],
   "source": [
    "import networkx as nx"
   ]
  },
  {
   "cell_type": "code",
   "execution_count": 4,
   "metadata": {},
   "outputs": [],
   "source": [
    "import matplotlib.pyplot as plt\n",
    "from itertools import groupby"
   ]
  },
  {
   "cell_type": "code",
   "execution_count": 5,
   "metadata": {},
   "outputs": [],
   "source": [
    "import sknetwork as skn"
   ]
  },
  {
   "cell_type": "code",
   "execution_count": 6,
   "metadata": {},
   "outputs": [],
   "source": [
    "# Util function to plot the inverse cumulative distribution\n",
    "def ccdf(values):\n",
    "    x = []\n",
    "    y = []\n",
    "    values = sorted(values)\n",
    "\n",
    "    # First make dist\n",
    "    dist = [(key, len(list(group))) for key, group in groupby(values)]\n",
    "\n",
    "    # Then compute inverse cumulative\n",
    "    total = 1.0\n",
    "    for (val, count) in dist:\n",
    "        x.append(val)\n",
    "        y.append(total)\n",
    "        total -= count/len(values)\n",
    "    return x, y\n",
    "\n",
    "# Util function to return the distribution of values\n",
    "def dist(values):\n",
    "    values = sorted(values)\n",
    "\n",
    "    # First make dist\n",
    "    dist = [(key, len(list(group))) for key, group in groupby(values)]\n",
    "    \n",
    "    return [x[0] for x in dist], [x[1] for x in dist]"
   ]
  },
  {
   "cell_type": "markdown",
   "metadata": {},
   "source": [
    "## Load data"
   ]
  },
  {
   "cell_type": "markdown",
   "metadata": {},
   "source": [
    "We will work on 2 graphs induced by the [Vital articles of Wikipedia](https://en.wikipedia.org/wiki/Wikipedia:Vital_articles/Level/4), a selection of about 10,000 articles of the English Wikipedia:\n",
    "* the directed graph of hyperlinks between these articles,\n",
    "* the bipartite graph between articles and (stemmed) words used in their summary."
   ]
  },
  {
   "cell_type": "code",
   "execution_count": 7,
   "metadata": {},
   "outputs": [
    {
     "name": "stdout",
     "output_type": "stream",
     "text": [
      "Parsing files...\n",
      "Done.\n"
     ]
    },
    {
     "data": {
      "text/plain": [
       "dict_keys(['names_labels_hierarchy', 'names_row', 'names_labels', 'labels', 'adjacency', 'meta', 'labels_hierarchy', 'names', 'names_col', 'biadjacency'])"
      ]
     },
     "execution_count": 7,
     "metadata": {},
     "output_type": "execute_result"
    }
   ],
   "source": [
    "data = skn.data.load_netset('wikivitals')\n",
    "data.keys()"
   ]
  },
  {
   "cell_type": "code",
   "execution_count": 8,
   "metadata": {
    "scrolled": true
   },
   "outputs": [],
   "source": [
    "# graph of links\n",
    "adjacency = data.adjacency"
   ]
  },
  {
   "cell_type": "code",
   "execution_count": 9,
   "metadata": {},
   "outputs": [],
   "source": [
    "# graph of words\n",
    "biadjacency = data.biadjacency"
   ]
  },
  {
   "cell_type": "code",
   "execution_count": 10,
   "metadata": {},
   "outputs": [],
   "source": [
    "# article names\n",
    "names = data.names"
   ]
  },
  {
   "cell_type": "code",
   "execution_count": 11,
   "metadata": {},
   "outputs": [
    {
     "data": {
      "text/plain": [
       "array(['People', 'History', 'Geography', 'Arts',\n",
       "       'Philosophy and religion', 'Everyday life',\n",
       "       'Society and social sciences', 'Biology and health sciences',\n",
       "       'Physical sciences', 'Technology', 'Mathematics'], dtype='<U27')"
      ]
     },
     "execution_count": 11,
     "metadata": {},
     "output_type": "execute_result"
    }
   ],
   "source": [
    "# article categories\n",
    "categories = data.names_labels\n",
    "categories"
   ]
  },
  {
   "cell_type": "code",
   "execution_count": 12,
   "metadata": {},
   "outputs": [
    {
     "data": {
      "text/plain": [
       "array(['moos', 'tonnag', 'separatist', ..., 'luteum', 'radiat', 'helena'],\n",
       "      dtype='<U22')"
      ]
     },
     "execution_count": 12,
     "metadata": {},
     "output_type": "execute_result"
    }
   ],
   "source": [
    "# words\n",
    "words = data.names_col\n",
    "words"
   ]
  },
  {
   "cell_type": "code",
   "execution_count": 13,
   "metadata": {},
   "outputs": [],
   "source": [
    "node_index = {name:i for i, name in enumerate(names)}"
   ]
  },
  {
   "cell_type": "code",
   "execution_count": 14,
   "metadata": {},
   "outputs": [],
   "source": [
    "n_articles, n_words = biadjacency.shape"
   ]
  },
  {
   "cell_type": "code",
   "execution_count": 15,
   "metadata": {},
   "outputs": [],
   "source": [
    "labels = data.labels\n"
   ]
  },
  {
   "cell_type": "markdown",
   "metadata": {},
   "source": [
    "### Basic statistics\n",
    "\n",
    "* Compute the number of nodes and edges for each of the two Wikivitals graph"
   ]
  },
  {
   "cell_type": "code",
   "execution_count": 16,
   "metadata": {},
   "outputs": [
    {
     "data": {
      "text/plain": [
       "[<matplotlib.lines.Line2D at 0x7f0a2d2d9c70>]"
      ]
     },
     "execution_count": 16,
     "metadata": {},
     "output_type": "execute_result"
    },
    {
     "data": {
      "image/png": "[encoded data removed]",
      "text/plain": [
       "<Figure size 432x288 with 1 Axes>"
      ]
     },
     "metadata": {
      "needs_background": "light"
     },
     "output_type": "display_data"
    }
   ],
   "source": [
    "degrees = [ len(adjacency.indices[ adjacency.indptr[x]: adjacency.indptr[x+1]]) for x in range(adjacency.shape[0])] \n",
    "\n",
    "x,y = ccdf(degrees)\n",
    "plt.loglog(x, y)"
   ]
  },
  {
   "cell_type": "markdown",
   "metadata": {},
   "source": [
    "### Degrees\n",
    "\n",
    "* What are the minimum degree? The maximum one?\n",
    "* Compute (and plot) the degree distribution of the WikiVitals graph, in log-log scale. For the `biadjacency`, you can plot separately the distributions for words and articles, and both together\n",
    "* Based on these informations, how would you filter the graph before training it for a machine learning task? For example, you could imagine removing certain nodes."
   ]
  },
  {
   "cell_type": "code",
   "execution_count": null,
   "metadata": {},
   "outputs": [],
   "source": []
  },
  {
   "cell_type": "markdown",
   "metadata": {},
   "source": [
    "### Global density\n",
    "\n",
    "* Compute the density of the Wikivitals graphs, before and after your filtering *(careful, one of the graphs is bipartite)*"
   ]
  },
  {
   "cell_type": "code",
   "execution_count": null,
   "metadata": {},
   "outputs": [],
   "source": []
  },
  {
   "cell_type": "markdown",
   "metadata": {},
   "source": [
    "## Traversal\n",
    "\n",
    "* Code a Breadth-First Search traversal\n",
    "* Adapt your code to a Depth-First Search traversal\n",
    "* Apply it to the two graphs"
   ]
  },
  {
   "cell_type": "code",
   "execution_count": 17,
   "metadata": {},
   "outputs": [],
   "source": [
    "def bfs(graph, source=None):\n",
    "    \"\"\"\n",
    "        Given a graph, returns a list of nodes corresponding to a\n",
    "        Breadth-First search traversal. If source is None, pick a node randomly.\n",
    "    \"\"\"\n",
    "    pass"
   ]
  },
  {
   "cell_type": "markdown",
   "metadata": {},
   "source": [
    "## PageRank"
   ]
  },
  {
   "cell_type": "markdown",
   "metadata": {},
   "source": [
    "The [PageRank](https://en.wikipedia.org/wiki/PageRank) algorithm can be used to recommend nodes (here articles) close to some target."
   ]
  },
  {
   "cell_type": "markdown",
   "metadata": {},
   "source": [
    "## To do \n",
    "\n",
    "Using the 2 graphs (links, words):\n",
    "* List the 10 articles the closest to some target of your choice (e.g., Vincent van Gogh).\n",
    "* For the word graphs, list the 10 closest words of this target.\n",
    "* Do the same with multiple targets."
   ]
  },
  {
   "cell_type": "code",
   "execution_count": 18,
   "metadata": {},
   "outputs": [],
   "source": [
    "pr = skn.ranking.PageRank()"
   ]
  },
  {
   "cell_type": "code",
   "execution_count": 19,
   "metadata": {},
   "outputs": [],
   "source": [
    "target = node_index['Vincent van Gogh']"
   ]
  },
  {
   "cell_type": "code",
   "execution_count": 20,
   "metadata": {},
   "outputs": [
    {
     "data": {
      "text/plain": [
       "PageRank(damping_factor=0.85, solver='piteration', n_iter=10, tol=1e-06)"
      ]
     },
     "execution_count": 20,
     "metadata": {},
     "output_type": "execute_result"
    }
   ],
   "source": [
    "pr.fit(adjacency, seeds={target:1})"
   ]
  },
  {
   "cell_type": "markdown",
   "metadata": {},
   "source": [
    "## Community detection"
   ]
  },
  {
   "cell_type": "markdown",
   "metadata": {},
   "source": [
    "## To do\n",
    "\n",
    "For the 2 graphs:\n",
    "* Cluster the graph.\n",
    "* Display the 5 most important nodes of each cluster (in terms of PageRank).\n",
    "* Evaluate the quality of the clustering using the categories as ground-truth."
   ]
  },
  {
   "cell_type": "code",
   "execution_count": 21,
   "metadata": {},
   "outputs": [],
   "source": [
    "from sklearn.metrics import adjusted_rand_score as ari"
   ]
  },
  {
   "cell_type": "code",
   "execution_count": 22,
   "metadata": {},
   "outputs": [],
   "source": [
    "louvain = skn.clustering.Louvain()"
   ]
  },
  {
   "cell_type": "code",
   "execution_count": 23,
   "metadata": {},
   "outputs": [
    {
     "data": {
      "text/plain": [
       "Louvain(resolution=1, modularity='dugue', tol_aggregation=0.001, n_aggregations=-1, shuffle_nodes=False, sort_clusters=True, return_membership=True, return_aggregate=True)"
      ]
     },
     "execution_count": 23,
     "metadata": {},
     "output_type": "execute_result"
    }
   ],
   "source": [
    "louvain.fit(adjacency)"
   ]
  },
  {
   "cell_type": "code",
   "execution_count": 24,
   "metadata": {},
   "outputs": [
    {
     "data": {
      "text/plain": [
       "0.3018954851357631"
      ]
     },
     "execution_count": 24,
     "metadata": {},
     "output_type": "execute_result"
    }
   ],
   "source": [
    "ari(labels, louvain.labels_)"
   ]
  },
  {
   "cell_type": "markdown",
   "metadata": {},
   "source": [
    "## Optional MovieLens: Load data\n",
    "\n",
    "We will focus on the MovieLens dataset, a dataset of users rating movies. You can download its [graph version](). Regarding [networkx](), it is one of the most common graph libraries in Python. You can check the [documentation](), or ask me. "
   ]
  },
  {
   "cell_type": "code",
   "execution_count": 25,
   "metadata": {
    "scrolled": true
   },
   "outputs": [
    {
     "ename": "FileNotFoundError",
     "evalue": "[Errno 2] No such file or directory: 'ml-1m/ratings.dat'",
     "output_type": "error",
     "traceback": [
      "\u001b[0;31m---------------------------------------------------------------------------\u001b[0m",
      "\u001b[0;31mFileNotFoundError\u001b[0m                         Traceback (most recent call last)",
      "\u001b[0;32m<ipython-input-25-c7f19c4160e3>\u001b[0m in \u001b[0;36m<module>\u001b[0;34m\u001b[0m\n\u001b[1;32m     13\u001b[0m \u001b[0;34m\u001b[0m\u001b[0m\n\u001b[1;32m     14\u001b[0m \u001b[0;31m# Convention here: all \"user\" nodes start with \"U-\", all movie nodes start with \"M-\"\u001b[0m\u001b[0;34m\u001b[0m\u001b[0;34m\u001b[0m\u001b[0;34m\u001b[0m\u001b[0m\n\u001b[0;32m---> 15\u001b[0;31m \u001b[0mgraph\u001b[0m \u001b[0;34m=\u001b[0m \u001b[0mload_data\u001b[0m\u001b[0;34m(\u001b[0m\u001b[0;34m\"ml-1m/ratings.dat\"\u001b[0m\u001b[0;34m)\u001b[0m\u001b[0;34m\u001b[0m\u001b[0;34m\u001b[0m\u001b[0m\n\u001b[0m",
      "\u001b[0;32m<ipython-input-25-c7f19c4160e3>\u001b[0m in \u001b[0;36mload_data\u001b[0;34m(filepath)\u001b[0m\n\u001b[1;32m      4\u001b[0m     \u001b[0medges\u001b[0m \u001b[0;34m=\u001b[0m \u001b[0;34m[\u001b[0m\u001b[0;34m]\u001b[0m\u001b[0;34m\u001b[0m\u001b[0;34m\u001b[0m\u001b[0m\n\u001b[1;32m      5\u001b[0m \u001b[0;34m\u001b[0m\u001b[0m\n\u001b[0;32m----> 6\u001b[0;31m     \u001b[0;32mfor\u001b[0m \u001b[0mline\u001b[0m \u001b[0;32min\u001b[0m \u001b[0mopen\u001b[0m\u001b[0;34m(\u001b[0m\u001b[0mfilepath\u001b[0m\u001b[0;34m)\u001b[0m\u001b[0;34m:\u001b[0m\u001b[0;34m\u001b[0m\u001b[0;34m\u001b[0m\u001b[0m\n\u001b[0m\u001b[1;32m      7\u001b[0m         \u001b[0mcontents\u001b[0m \u001b[0;34m=\u001b[0m \u001b[0mline\u001b[0m\u001b[0;34m.\u001b[0m\u001b[0msplit\u001b[0m\u001b[0;34m(\u001b[0m\u001b[0;34m\"::\"\u001b[0m\u001b[0;34m)\u001b[0m\u001b[0;34m\u001b[0m\u001b[0;34m\u001b[0m\u001b[0m\n\u001b[1;32m      8\u001b[0m         \u001b[0muser\u001b[0m \u001b[0;34m=\u001b[0m \u001b[0;34m\"U-\"\u001b[0m \u001b[0;34m+\u001b[0m \u001b[0mcontents\u001b[0m\u001b[0;34m[\u001b[0m\u001b[0;36m0\u001b[0m\u001b[0;34m]\u001b[0m\u001b[0;34m\u001b[0m\u001b[0;34m\u001b[0m\u001b[0m\n",
      "\u001b[0;31mFileNotFoundError\u001b[0m: [Errno 2] No such file or directory: 'ml-1m/ratings.dat'"
     ]
    }
   ],
   "source": [
    "import networkx as nx\n",
    "def load_data(filepath):\n",
    "    \n",
    "    edges = []\n",
    "    \n",
    "    for line in open(filepath):\n",
    "        contents = line.split(\"::\")\n",
    "        user = \"U-\" + contents[0]\n",
    "        movie = \"M-\" + contents[1]\n",
    "        rating = contents[2]\n",
    "        edges.append((user, movie))\n",
    "    return nx.Graph(edges)\n",
    "\n",
    "# Convention here: all \"user\" nodes start with \"U-\", all movie nodes start with \"M-\"\n",
    "graph = load_data(\"ml-1m/ratings.dat\")"
   ]
  },
  {
   "cell_type": "code",
   "execution_count": null,
   "metadata": {},
   "outputs": [],
   "source": [
    "# Convention here: all \"user\" nodes start with \"U-\", all movie nodes start with \"M-\"\n",
    "graph = load_data(\"ml-1m/ratings.dat\")"
   ]
  },
  {
   "cell_type": "markdown",
   "metadata": {},
   "source": [
    "## To do\n",
    "\n",
    "* What it the average rating? The ratings distribution?\n",
    "* Does a rating prediction task make sense in this setting? Can you imagine a learning task that would be relevant on this data?\n",
    "* What are the most important users? Movies?\n",
    "* Try using the graph structure to predict adequate movies given a user's past ratings; you can try implementing first a very simple baseline (for example, predict the average rating for everyone), so that you have a point of comparison. You can then get more creative, and use, for examplem degrees, PageRank scores, clustering, as potential features for the rating prediction task."
   ]
  }
 ],
 "metadata": {
  "kernelspec": {
   "display_name": "Python 3 (ipykernel)",
   "language": "python",
   "name": "python3"
  },
  "language_info": {
   "codemirror_mode": {
    "name": "ipython",
    "version": 3
   },
   "file_extension": ".py",
   "mimetype": "text/x-python",
   "name": "python",
   "nbconvert_exporter": "python",
   "pygments_lexer": "ipython3",
   "version": "3.12.4"
  }
 },
 "nbformat": 4,
 "nbformat_minor": 4
}
